{
 "cells": [
  {
   "cell_type": "code",
   "execution_count": 1,
   "outputs": [
    {
     "data": {
      "text/plain": "3"
     },
     "execution_count": 1,
     "metadata": {},
     "output_type": "execute_result"
    }
   ],
   "source": [
    "# Built-in Functions Examples\n",
    "abs(-3)"
   ],
   "metadata": {
    "collapsed": false,
    "pycharm": {
     "name": "#%%\n"
    }
   }
  },
  {
   "cell_type": "code",
   "execution_count": 2,
   "outputs": [
    {
     "data": {
      "text/plain": "1"
     },
     "execution_count": 2,
     "metadata": {},
     "output_type": "execute_result"
    }
   ],
   "source": [
    "# Built-in Functions Examples\n",
    "min(1, 2, 3, 4, 5)"
   ],
   "metadata": {
    "collapsed": false,
    "pycharm": {
     "name": "#%%\n"
    }
   }
  },
  {
   "cell_type": "code",
   "execution_count": 3,
   "outputs": [
    {
     "data": {
      "text/plain": "8"
     },
     "execution_count": 3,
     "metadata": {},
     "output_type": "execute_result"
    }
   ],
   "source": [
    "# Built-in Functions Examples\n",
    "max(4, 5, 6, 7, 8)"
   ],
   "metadata": {
    "collapsed": false,
    "pycharm": {
     "name": "#%%\n"
    }
   }
  },
  {
   "cell_type": "code",
   "execution_count": 4,
   "outputs": [
    {
     "data": {
      "text/plain": "(2, 1)"
     },
     "execution_count": 4,
     "metadata": {},
     "output_type": "execute_result"
    }
   ],
   "source": [
    "# Built-in Functions Examples\n",
    "divmod(5, 2)"
   ],
   "metadata": {
    "collapsed": false,
    "pycharm": {
     "name": "#%%\n"
    }
   }
  },
  {
   "cell_type": "code",
   "execution_count": 5,
   "outputs": [
    {
     "data": {
      "text/plain": "(2.0, 2.5)"
     },
     "execution_count": 5,
     "metadata": {},
     "output_type": "execute_result"
    }
   ],
   "source": [
    "# Built-in Functions Examples\n",
    "divmod(8.5, 3)"
   ],
   "metadata": {
    "collapsed": false,
    "pycharm": {
     "name": "#%%\n"
    }
   }
  },
  {
   "cell_type": "code",
   "execution_count": 1,
   "outputs": [
    {
     "data": {
      "text/plain": "9"
     },
     "execution_count": 1,
     "metadata": {},
     "output_type": "execute_result"
    }
   ],
   "source": [
    "# Built-in Functions Examples\n",
    "pow(3, 2)"
   ],
   "metadata": {
    "collapsed": false,
    "pycharm": {
     "name": "#%%\n"
    }
   }
  },
  {
   "cell_type": "code",
   "execution_count": 2,
   "outputs": [
    {
     "data": {
      "text/plain": "5"
     },
     "execution_count": 2,
     "metadata": {},
     "output_type": "execute_result"
    }
   ],
   "source": [
    "# Built-in Functions Examples\n",
    "len(\"Japan\")"
   ],
   "metadata": {
    "collapsed": false,
    "pycharm": {
     "name": "#%%\n"
    }
   }
  },
  {
   "cell_type": "code",
   "execution_count": 8,
   "outputs": [],
   "source": [
    "#Example\n",
    "#CREATING A FUNCTION----FUNCTION DEFINITION--- WILL NOT BE EXECUTED UNTIL ITS CALLED\n",
    "\n",
    "def my_function():\n",
    "  print(\"WELCOME TO FUNCTIONS IN PYTHON\")\n",
    "  print(\"Inside Function Definition\")"
   ],
   "metadata": {
    "collapsed": false,
    "pycharm": {
     "name": "#%%\n"
    }
   }
  },
  {
   "cell_type": "code",
   "execution_count": 9,
   "outputs": [
    {
     "name": "stdout",
     "output_type": "stream",
     "text": [
      "WELCOME TO FUNCTIONS IN PYTHON \n",
      "Inside Function Definition\n"
     ]
    }
   ],
   "source": [
    "#Example\n",
    "#FUNCTION DEFINITION---- FUNCTION CALL----- To call a function use the function name.\n",
    "\n",
    "#FUNCTION DEFINITION\n",
    "def my_function():\n",
    "  print(\"WELCOME TO FUNCTIONS IN PYTHON \")\n",
    "  print(\"Inside Function Definition\")\n",
    "\n",
    "#CALLING FUNCTION\n",
    "my_function()"
   ],
   "metadata": {
    "collapsed": false,
    "pycharm": {
     "name": "#%%\n"
    }
   }
  },
  {
   "cell_type": "code",
   "execution_count": 10,
   "outputs": [
    {
     "name": "stdout",
     "output_type": "stream",
     "text": [
      "Outside main() Function\n",
      "Inside  main() Function\n"
     ]
    }
   ],
   "source": [
    "#Example\n",
    "print(\"Outside main() Function\")\n",
    "#FUNCTION DEFINITION\n",
    "def main():\n",
    "    print(\"Inside  main() Function\")\n",
    "\n",
    "if __name__ == \"__main__\":\n",
    "    main()\n"
   ],
   "metadata": {
    "collapsed": false,
    "pycharm": {
     "name": "#%%\n"
    }
   }
  },
  {
   "cell_type": "code",
   "source": [
    "#Let’s see an example without the main function.\n",
    "\n",
    "#Example:\n",
    "\n",
    "print(\"Good Morning\")\n",
    "\n",
    "def main():\n",
    "          print(\"Hello Python\")\n",
    "\n",
    "print(\"Good Evening\")"
   ],
   "metadata": {
    "collapsed": false,
    "pycharm": {
     "name": "#%%\n"
    }
   },
   "execution_count": 11,
   "outputs": [
    {
     "name": "stdout",
     "output_type": "stream",
     "text": [
      "Good Morning\n",
      "Good Evening\n"
     ]
    }
   ]
  },
  {
   "cell_type": "code",
   "source": [
    "#Now let’s see the program with function call if __name__ == “__main__”.\n",
    "\n",
    "#Example 2:\n",
    "\n",
    "print(\"Good Morning\")\n",
    "\n",
    "def main():\n",
    "          print(\"Hello Python\")\n",
    "\n",
    "print(\"Good Evening\")\n",
    "\n",
    "if __name__ == \"__main__\":\n",
    "         main()"
   ],
   "metadata": {
    "collapsed": false,
    "pycharm": {
     "name": "#%%\n"
    }
   },
   "execution_count": 12,
   "outputs": [
    {
     "name": "stdout",
     "output_type": "stream",
     "text": [
      "Good Morning\n",
      "Good Evening\n",
      "Hello Python\n"
     ]
    }
   ]
  },
  {
   "cell_type": "code",
   "source": [
    "#Program to Demonstrate a Function with and without Arguments\n",
    "def function_definition_with_no_argument():\n",
    "    print(\"This is a function definition with NO Argument\")\n",
    "def function_definition_with_one_argument(message):\n",
    "    print(f\"This is a function definition with {message}\")\n",
    "def main():\n",
    "    function_definition_with_no_argument()\n",
    "    function_definition_with_one_argument(\"One Argument\")\n",
    "if __name__ == \"__main__\":\n",
    "    main()"
   ],
   "metadata": {
    "collapsed": false,
    "pycharm": {
     "name": "#%%\n"
    }
   },
   "execution_count": 13,
   "outputs": [
    {
     "name": "stdout",
     "output_type": "stream",
     "text": [
      "This is a function definition with NO Argument\n",
      "This is a function definition with One Argument\n"
     ]
    }
   ]
  },
  {
   "cell_type": "code",
   "execution_count": 14,
   "outputs": [
    {
     "name": "stdout",
     "output_type": "stream",
     "text": [
      "SUM OF 2 NUMBERS = 7\n"
     ]
    }
   ],
   "source": [
    "def add(x, y):\n",
    "    total = x + y\n",
    "    return total\n",
    "\n",
    "ans=add(2,5)\n",
    "print(\"SUM OF 2 NUMBERS =\",ans)"
   ],
   "metadata": {
    "collapsed": false,
    "pycharm": {
     "name": "#%%\n"
    }
   }
  },
  {
   "cell_type": "code",
   "execution_count": 15,
   "outputs": [
    {
     "name": "stdout",
     "output_type": "stream",
     "text": [
      "SUM OF 2 NUMBERS = 7\n"
     ]
    }
   ],
   "source": [
    "def add(x, y):\n",
    "    return x+y\n",
    "\n",
    "ans=add(2,5)\n",
    "print(\"SUM OF 2 NUMBERS =\",ans)"
   ],
   "metadata": {
    "collapsed": false,
    "pycharm": {
     "name": "#%%\n"
    }
   }
  },
  {
   "cell_type": "code",
   "execution_count": 16,
   "outputs": [
    {
     "data": {
      "text/plain": "'odd'"
     },
     "execution_count": 16,
     "metadata": {},
     "output_type": "execute_result"
    }
   ],
   "source": [
    "i=15\n",
    "def type_of_int(i):\n",
    "    if i % 2 == 0:\n",
    "        return 'even'\n",
    "    else:\n",
    "        return 'odd'\n",
    "type_of_int(i)\n"
   ],
   "metadata": {
    "collapsed": false,
    "pycharm": {
     "name": "#%%\n"
    }
   }
  },
  {
   "cell_type": "code",
   "execution_count": 17,
   "outputs": [
    {
     "name": "stdout",
     "output_type": "stream",
     "text": [
      "Hello World.\n",
      "42\n",
      "True\n"
     ]
    }
   ],
   "source": [
    "def various_return_types(n):\n",
    "    if(n==1):\n",
    "        return \"Hello World.\"     # Return a string\n",
    "    elif(n==2):\n",
    "        return 42                 # Return a value\n",
    "    else:\n",
    "        return True               # Return a boolean\n",
    "print(various_return_types(1))\n",
    " \t\t\t\t\t\t\t\t                   #OUTPUT-Hello World.\n",
    "print(various_return_types(2))\n",
    " \t\t\t\t\t\t\t\t                   #OUTPUT-42\n",
    "print(various_return_types(3))\n",
    " \t\t\t\t\t\t\t\t                   #OUTPUT-True\n"
   ],
   "metadata": {
    "collapsed": false,
    "pycharm": {
     "name": "#%%\n"
    }
   }
  },
  {
   "cell_type": "code",
   "source": [
    "def return_multiple_values():\n",
    "    return 1, 2, 3\n",
    "\n",
    "print(return_multiple_values())\n",
    "print(type(return_multiple_values()))"
   ],
   "metadata": {
    "collapsed": false,
    "pycharm": {
     "name": "#%%\n"
    }
   },
   "execution_count": 18,
   "outputs": [
    {
     "name": "stdout",
     "output_type": "stream",
     "text": [
      "(1, 2, 3)\n",
      "<class 'tuple'>\n"
     ]
    }
   ]
  },
  {
   "cell_type": "code",
   "execution_count": 19,
   "outputs": [
    {
     "name": "stdout",
     "output_type": "stream",
     "text": [
      "The war was won by  and the war ended in \n"
     ]
    }
   ],
   "source": [
    "#Program to Demonstrate the Return of Multiple Values from a Function Definition\n",
    "def world_war():\n",
    "    alliance_world_war = input(\"Which alliance won World War 2?\")\n",
    "    world_war_end_year = input(\"When did World War 2 end?\")\n",
    "    return alliance_world_war, world_war_end_year\n",
    "def main():\n",
    "    alliance, war_end_year = world_war()\n",
    "    print(f\"The war was won by {alliance} and the war ended in {war_end_year}\")\n",
    "if __name__ == \"__main__\":\n",
    "    main()"
   ],
   "metadata": {
    "collapsed": false,
    "pycharm": {
     "name": "#%%\n"
    }
   }
  },
  {
   "cell_type": "code",
   "execution_count": 12,
   "outputs": [
    {
     "name": "stdout",
     "output_type": "stream",
     "text": [
      "Entered number 123 is not a Armstrong number\n"
     ]
    }
   ],
   "source": [
    "#Program to Check If a 3 Digit Number Is Armstrong Number or Not\n",
    "user_number = int(input(\"Enter a 3 digit positive number to check for Armstrong number\"))\n",
    "def check_armstrong_number(number):\n",
    "    result = 0\n",
    "    temp = number\n",
    "    while temp != 0:\n",
    "        last_digit = temp % 10\n",
    "        result += pow(last_digit, 3)\n",
    "        temp = int(temp / 10)\n",
    "    if number == result:\n",
    "        print(f\"Entered number {number} is a Armstrong number\")\n",
    "    else:\n",
    "        print(f\"Entered number {number} is not a Armstrong number\")\n",
    "\n",
    "def main():\n",
    "    check_armstrong_number(user_number)\n",
    "\n",
    "if __name__ == \"__main__\":\n",
    "    main()"
   ],
   "metadata": {
    "collapsed": false,
    "pycharm": {
     "name": "#%%\n"
    }
   }
  },
  {
   "cell_type": "code",
   "execution_count": null,
   "outputs": [],
   "source": [
    "def greet(name, msg=\"Good Morning!\"):\n",
    "    \"\"\"\n",
    "    This function greets to\n",
    "    the person with the\n",
    "    provided message.\n",
    "\n",
    "    If the message is not provided,\n",
    "    it defaults to \"Good\n",
    "    morning!\"\n",
    "    \"\"\"\n",
    "\n",
    "    print(\"Hello\", name + ', ' + msg)\n",
    "\n",
    "\n",
    "greet(\"KARTHIK\")\n",
    "greet(\"MANJUNATH\", \"How do you do?\")"
   ],
   "metadata": {
    "collapsed": false,
    "pycharm": {
     "name": "#%%\n"
    }
   }
  },
  {
   "cell_type": "markdown",
   "source": [
    "<div style=\"color:BLACK\"> <font size=\"6\">\n",
    "<ul>\n",
    "  <li>In this function, the parameter name does not have a default value and is required (mandatory) during a call.</li>\n",
    "  <li>On the other hand, the parameter msg has a default value of \"Good morning!\". So, it is optional during a call. </li>\n",
    "  <li>If a value is provided, it will overwrite the default value.</li>\n",
    "  <li>Any number of arguments in a function can have a default value. But once we have a default argument, all the arguments to its right must also have default values.</li>\n",
    " </ul>"
   ],
   "metadata": {
    "collapsed": false,
    "pycharm": {
     "name": "#%% md\n"
    }
   }
  },
  {
   "cell_type": "code",
   "execution_count": null,
   "outputs": [],
   "source": [
    "#Program to Demonstrate the Use of Default Parameters\n",
    "\n",
    "def work_area(prompt, domain=\"Data Analytics\"):\n",
    "    print(f\"{prompt} {domain}\")\n",
    "def main():\n",
    "    work_area(\"Sam works in\")\n",
    "    work_area(\"Alice has interest in\", \"Internet of Things\")\n",
    "if __name__ == \"__main__\":\n",
    "    main()"
   ],
   "metadata": {
    "collapsed": false,
    "pycharm": {
     "name": "#%%\n"
    }
   }
  },
  {
   "cell_type": "code",
   "source": [
    "#Program to Demonstrate the Use of Keyword Arguments\n",
    "def parrot(voltage, state='a stiff', action='voom', type='Norwegian Blue'):\n",
    "    print(f\"This parrot wouldn't {action}, if you put {voltage}, volts through it.\")\n",
    "    print(f\"Lovely plumage, the {type}\")\n",
    "    print(f\"It's {state} !!!\")\n",
    "\n",
    "parrot(1000)\n",
    "parrot(voltage=1000)\n",
    "parrot(voltage=1000000, action='VOOOOOM')\n",
    "parrot('a thousand', state='pushing up the daisies')"
   ],
   "metadata": {
    "collapsed": false,
    "pycharm": {
     "name": "#%%\n"
    }
   },
   "execution_count": null,
   "outputs": []
  },
  {
   "cell_type": "code",
   "execution_count": null,
   "outputs": [],
   "source": [
    "#NUMBER OF ARGUMENTS IN FUNCTIONS---By default, a function must be called with the correct number of arguments, not more, and not less.\n",
    "\n",
    "def my_function(fname, lname):\n",
    "  print(fname + \" \" + lname)\n",
    "\n",
    "my_function(\"PYTHON\", \"PROGRAMMING\")"
   ],
   "metadata": {
    "collapsed": false,
    "pycharm": {
     "name": "#%%\n"
    }
   }
  },
  {
   "cell_type": "code",
   "execution_count": null,
   "outputs": [],
   "source": [
    "# Python program to illustrate *args for variable number of arguments\n",
    "def myFun(*argv):\n",
    "    for arg in argv: print (arg)\n",
    "\n",
    "myFun('Hello', 'Welcome', 'To', 'THINKING PROGRAMMING')"
   ],
   "metadata": {
    "collapsed": false,
    "pycharm": {
     "name": "#%%\n"
    }
   }
  },
  {
   "cell_type": "code",
   "execution_count": null,
   "outputs": [],
   "source": [
    "# Python program to illustrate *args with first extra argument\n",
    "def myFun(arg1, *argv):\n",
    "    print (\"First argument :\", arg1)\n",
    "    for arg in argv:\n",
    "        print(\"Next argument through *argv :\", arg)\n",
    "\n",
    "\n",
    "myFun('Hello', 'Welcome', 'To', 'THINKING PROGRAMMING')"
   ],
   "metadata": {
    "collapsed": false,
    "pycharm": {
     "name": "#%%\n"
    }
   }
  },
  {
   "cell_type": "code",
   "execution_count": 1,
   "outputs": [
    {
     "name": "stdout",
     "output_type": "stream",
     "text": [
      "first == INTRODUCTION\n",
      "mid == TO\n",
      "last == PYTHON PROGRAMMING\n"
     ]
    }
   ],
   "source": [
    "# Python program to illustrate *kwargs for variable number of keyword arguments\n",
    "# items() method is used to return the list with all dictionary keys with values.\n",
    "\n",
    "def myFun(**kwargs):\n",
    "    for key, value in kwargs.items():\n",
    "        print (\"%s == %s\" %(key, value))\n",
    "\n",
    "myFun(first ='INTRODUCTION', mid ='TO', last='PYTHON PROGRAMMING')"
   ],
   "metadata": {
    "collapsed": false,
    "pycharm": {
     "name": "#%%\n"
    }
   }
  },
  {
   "cell_type": "code",
   "execution_count": 3,
   "outputs": [
    {
     "name": "stdout",
     "output_type": "stream",
     "text": [
      "first == INTRODUCTION\n",
      "mid == TO\n",
      "last == PYTHON PROGRAMMING\n"
     ]
    }
   ],
   "source": [
    "# Python program to illustrate **kargs for # variable number of keyword arguments with # one extra argument.\n",
    "\n",
    "def myFun(arg1, **kwargs):\n",
    "    for key, value in kwargs.items():\n",
    "        print (\"%s == %s\" %(key, value))\n",
    "\n",
    "myFun(\"Hi\", first ='INTRODUCTION', mid ='TO', last='PYTHON PROGRAMMING')"
   ],
   "metadata": {
    "collapsed": false,
    "pycharm": {
     "name": "#%%\n"
    }
   }
  },
  {
   "cell_type": "code",
   "execution_count": 11,
   "outputs": [
    {
     "name": "stdout",
     "output_type": "stream",
     "text": [
      "The factorial of 3 is 6\n"
     ]
    }
   ],
   "source": [
    "def factorial(x):\n",
    "    \"\"\"This is a recursive function\n",
    "    to find the factorial of an integer\"\"\"\n",
    "\n",
    "    if x == 1:\n",
    "        return 1\n",
    "    else:\n",
    "        return (x * factorial(x-1))\n",
    "\n",
    "\n",
    "num = 3\n",
    "print(\"The factorial of\", num, \"is\", factorial(num))"
   ],
   "metadata": {
    "collapsed": false,
    "pycharm": {
     "name": "#%%\n"
    }
   }
  },
  {
   "cell_type": "code",
   "execution_count": null,
   "outputs": [],
   "source": [
    "# Python Program for Creation of String\n",
    "\n",
    "# Creating a String with single Quotes\n",
    "String1 = 'Welcome to PYTHON World'\n",
    "print(\"String with the use of Single Quotes: \")\n",
    "print(String1)\n",
    "\n",
    "# Creating a String with double Quotes\n",
    "String1 = \"I'm a LEARNER\"\n",
    "print(\"\\nString with the use of Double Quotes: \")\n",
    "print(String1)\n",
    "\n",
    "# Creating a String with triple Quotes\n",
    "String1 = '''Thinking Programming'''\n",
    "print(\"\\nString with the use of Triple Quotes: \")\n",
    "print(String1)\n",
    "\n",
    "# Creating String with triple Quotes allows multiple lines\n",
    "String1 = '''Strings\n",
    "            In\n",
    "            Python'''\n",
    "print(\"\\nCreating a multiline String: \")\n",
    "print(String1)"
   ],
   "metadata": {
    "collapsed": false,
    "pycharm": {
     "name": "#%%\n"
    }
   }
  },
  {
   "cell_type": "code",
   "execution_count": null,
   "outputs": [],
   "source": [
    "\n",
    "# Python Program to Access characters of String\n",
    "\n",
    "String1 = \"Access Characters of String\"\n",
    "print(\"Initial String: \")\n",
    "print(String1)\n",
    "\n",
    "# Printing First character\n",
    "print(\"\\nFirst character of String is: \")\n",
    "print(String1[0])\n",
    "\n",
    "# Printing Last character\n",
    "print(\"\\nLast character of String is: \")\n",
    "print(String1[-1])"
   ],
   "metadata": {
    "collapsed": false,
    "pycharm": {
     "name": "#%%\n"
    }
   }
  },
  {
   "cell_type": "code",
   "execution_count": null,
   "outputs": [],
   "source": [
    "healthy_drink = \"green tea\"\n",
    "healthy_drink[0:3]"
   ],
   "metadata": {
    "collapsed": false,
    "pycharm": {
     "name": "#%%\n"
    }
   }
  },
  {
   "cell_type": "code",
   "execution_count": null,
   "outputs": [],
   "source": [
    "healthy_drink[:5]"
   ],
   "metadata": {
    "collapsed": false,
    "pycharm": {
     "name": "#%%\n"
    }
   }
  },
  {
   "cell_type": "code",
   "execution_count": null,
   "outputs": [],
   "source": [
    "healthy_drink[:]"
   ],
   "metadata": {
    "collapsed": false,
    "pycharm": {
     "name": "#%%\n"
    }
   }
  },
  {
   "cell_type": "code",
   "execution_count": null,
   "outputs": [],
   "source": [
    "healthy_drink[2:2]"
   ],
   "metadata": {
    "collapsed": false,
    "pycharm": {
     "name": "#%%\n"
    }
   }
  },
  {
   "cell_type": "code",
   "execution_count": null,
   "outputs": [],
   "source": [
    "healthy_drink[-3:-1]"
   ],
   "metadata": {
    "collapsed": false,
    "pycharm": {
     "name": "#%%\n"
    }
   }
  },
  {
   "cell_type": "code",
   "execution_count": null,
   "outputs": [],
   "source": [
    "healthy_drink[6:-1]"
   ],
   "metadata": {
    "collapsed": false,
    "pycharm": {
     "name": "#%%\n"
    }
   }
  },
  {
   "cell_type": "code",
   "execution_count": null,
   "outputs": [],
   "source": [
    "newspaper = \"new york times\"\n",
    "newspaper[0:12:4]"
   ],
   "metadata": {
    "collapsed": false,
    "pycharm": {
     "name": "#%%\n"
    }
   }
  },
  {
   "cell_type": "code",
   "execution_count": null,
   "outputs": [],
   "source": [
    "newspaper[::4]"
   ],
   "metadata": {
    "collapsed": false,
    "pycharm": {
     "name": "#%%\n"
    }
   }
  },
  {
   "cell_type": "code",
   "execution_count": null,
   "outputs": [],
   "source": [
    "# Python Program to demonstrate String slicing\n",
    "\n",
    "# Creating a String\n",
    "String1 = \"String Slicing\"\n",
    "print(\"Initial String: \")\n",
    "print(String1)\n",
    "\n",
    "# Printing 3rd to 12th character\n",
    "print(\"\\nSlicing characters from 3-12: [INDEX VALUE FROM 3 TO 11 will be considered]\")\n",
    "print(String1[3:12])\n",
    "\n",
    "# Printing characters between\n",
    "# 3rd and 2nd last character\n",
    "print(\"\\nSlicing characters between \" + \"3rd and 2nd last character: [INDEX VALUE FROM 3 TO -3 will be considered] \")\n",
    "print(String1[3:-2])"
   ],
   "metadata": {
    "collapsed": false,
    "pycharm": {
     "name": "#%%\n"
    }
   }
  },
  {
   "cell_type": "code",
   "execution_count": null,
   "outputs": [],
   "source": [
    "#Accessing string characters in Python\n",
    "str = 'programiz'\n",
    "print('str = ', str)\n",
    "\n",
    "#first character\n",
    "print('str[0] = ', str[0])\n",
    "\n",
    "#last character\n",
    "print('str[-1] = ', str[-1])\n",
    "\n",
    "#slicing 2nd to 5th character\n",
    "print('str[1:5] = ', str[1:5])\n",
    "\n",
    "#slicing 6th to 2nd last character\n",
    "print('str[5:-2] = ', str[5:-2])"
   ],
   "metadata": {
    "collapsed": false,
    "pycharm": {
     "name": "#%%\n"
    }
   }
  },
  {
   "cell_type": "code",
   "source": [
    "\n",
    "# Python Program to Update character of a String--------------- Throws an ERROR\n",
    "\n",
    "String1 = \"Hello, I'm a Geek\"\n",
    "print(\"Initial String: \")\n",
    "print(String1)\n",
    "\n",
    "# Updating a character of the String--------------- Throws an ERROR\n",
    "String1[2] = 'p'\n",
    "print(\"\\nUpdating character at 2nd Index: \")\n",
    "print(String1)"
   ],
   "metadata": {
    "collapsed": false,
    "pycharm": {
     "name": "#%%\n"
    }
   },
   "execution_count": null,
   "outputs": []
  },
  {
   "cell_type": "code",
   "execution_count": null,
   "outputs": [],
   "source": [
    "# Python Program to Update entire String\n",
    "\n",
    "String1 = \"Update entire String\"\n",
    "print(\"Initial String: \")\n",
    "print(String1)\n",
    "\n",
    "# Updating a String\n",
    "String1 = \"STRINGS IN PYTHON\"\n",
    "print(\"\\nUpdated String: \")\n",
    "print(String1)"
   ],
   "metadata": {
    "collapsed": false,
    "pycharm": {
     "name": "#%%\n"
    }
   }
  },
  {
   "cell_type": "code",
   "execution_count": null,
   "outputs": [],
   "source": [
    "# Python Program to Delete characters from a String--------------- Throws an ERROR\n",
    "\n",
    "String1 = \"Delete characters from a String\"\n",
    "print(\"Initial String: \")\n",
    "print(String1)\n",
    "\n",
    "# Deleting a character of the String--------------- Throws an ERROR\n",
    "del String1[2]\n",
    "print(\"\\nDeleting character at 2nd Index: \")\n",
    "print(String1)"
   ],
   "metadata": {
    "collapsed": false,
    "pycharm": {
     "name": "#%%\n"
    }
   }
  },
  {
   "cell_type": "code",
   "execution_count": null,
   "outputs": [],
   "source": [
    "# Python Program to Delete entire String\n",
    "\n",
    "String1 = \"Delete entire String\"\n",
    "print(\"Initial String: \")\n",
    "print(String1)\n",
    "\n",
    "# Deleting a String with the use of del\n",
    "del String1\n",
    "print(\"\\nDeleting entire String: \")\n",
    "print(String1)           #--------------- Throws an ERROR--- SINCE THE STRING GOT DELETED"
   ],
   "metadata": {
    "collapsed": false,
    "pycharm": {
     "name": "#%%\n"
    }
   }
  },
  {
   "cell_type": "code",
   "execution_count": null,
   "outputs": [],
   "source": [
    "# Python Program for Escape Sequencing of String\n",
    "\n",
    "# Initial String\n",
    "String1 = '''I'm a \"LEARNER\"'''\n",
    "print(\"Initial String with use of Triple Quotes: \")\n",
    "print(String1)\n",
    "\n",
    "# Escaping Single Quote\n",
    "String1 = 'I\\'m a \"LEARNER\"'\n",
    "print(\"\\nEscaping Single Quote: \")\n",
    "print(String1)\n",
    "\n",
    "# Escaping Double Quotes\n",
    "String1 = \"I'm a \\\"LEARNER\\\"\"\n",
    "print(\"\\nEscaping Double Quotes: \")\n",
    "print(String1)\n",
    "\n",
    "# Printing Paths with the\n",
    "# use of Escape Sequences\n",
    "String1 = \"C:\\\\Python\\\\LEARNER\\\\\"\n",
    "print(\"\\nEscaping Backslashes: \")\n",
    "print(String1)"
   ],
   "metadata": {
    "collapsed": false,
    "pycharm": {
     "name": "#%%\n"
    }
   }
  },
  {
   "cell_type": "code",
   "execution_count": null,
   "outputs": [],
   "source": [
    "# Python Program for Formatting of Strings\n",
    "\n",
    "# Default order\n",
    "String1 = \"{} {} {}\".format('Formatting', 'of', 'Strings')\n",
    "print(\"Print String in default order: \")\n",
    "print(String1)\n",
    "\n",
    "# Positional Formatting\n",
    "String1 = \"{1} {0} {2}\".format('Formatting', 'of', 'Strings')\n",
    "print(\"\\nPrint String in Positional order: \")\n",
    "print(String1)\n",
    "\n",
    "# Keyword Formatting\n",
    "String1 = \"{f} {o} {s}\".format(f='Formatting', o='of', s='Strings')\n",
    "print(\"\\nPrint String in order of Keywords: \")\n",
    "print(String1)"
   ],
   "metadata": {
    "collapsed": false,
    "pycharm": {
     "name": "#%%\n"
    }
   }
  },
  {
   "cell_type": "code",
   "execution_count": null,
   "outputs": [],
   "source": [
    "# Formatting of Integers\n",
    "String1 = \"{0:b}\".format(16)\n",
    "print(\"\\nBinary representation of 16 is \")\n",
    "print(String1)\n",
    "\n",
    "# Formatting of Floats\n",
    "String1 = \"{0:e}\".format(165.6458)\n",
    "print(\"\\nExponent representation of 165.6458 is \")\n",
    "print(String1)\n",
    "\n",
    "# Rounding off Integers\n",
    "String1 = \"{0:.2f}\".format(1/6)\n",
    "print(\"\\none-sixth is : \")\n",
    "print(String1)"
   ],
   "metadata": {
    "collapsed": false,
    "pycharm": {
     "name": "#%%\n"
    }
   }
  },
  {
   "cell_type": "code",
   "execution_count": null,
   "outputs": [],
   "source": [
    "# String alignment\n",
    "String1 = \"|{:<10}|{:^10}|{:>10}|\".format('Python', 'String', 'Alignment')\n",
    "print(\"\\nLeft, center and right alignment with Formatting: \")\n",
    "print(String1)\n",
    "\n",
    "# To demonstrate aligning of spaces\n",
    "String1 = \"\\n{0:^16} was founded in {1:<4}!\".format(\"PYTHON STRINGS\", 2021)\n",
    "print(String1)"
   ],
   "metadata": {
    "collapsed": false,
    "pycharm": {
     "name": "#%%\n"
    }
   }
  },
  {
   "cell_type": "code",
   "execution_count": null,
   "outputs": [],
   "source": [
    "# Python Program for # Old Style Formatting of Integers\n",
    "\n",
    "Integer1 = 12.3456789\n",
    "print(\"Formatting in 3.2f format: \")\n",
    "print('The value of Integer1 is %3.2f' % Integer1)\n",
    "print(\"\\nFormatting in 3.4f format: \")\n",
    "print('The value of Integer1 is %3.4f' % Integer1)"
   ],
   "metadata": {
    "collapsed": false,
    "pycharm": {
     "name": "#%%\n"
    }
   }
  },
  {
   "cell_type": "code",
   "execution_count": null,
   "outputs": [],
   "source": [
    "#CONVERTING CHARACTER TO AN INTEGER\n",
    "ord('a')\n"
   ],
   "metadata": {
    "collapsed": false,
    "pycharm": {
     "name": "#%%\n"
    }
   }
  },
  {
   "cell_type": "code",
   "execution_count": null,
   "outputs": [],
   "source": [
    "#CONVERTING CHARACTER TO AN INTEGER\n",
    "ord(' ')"
   ],
   "metadata": {
    "collapsed": false,
    "pycharm": {
     "name": "#%%\n"
    }
   }
  },
  {
   "cell_type": "code",
   "execution_count": null,
   "outputs": [],
   "source": [
    "#CONVERTING AN INTEGER TO CHARACTER\n",
    "chr(97)"
   ],
   "metadata": {
    "collapsed": false,
    "pycharm": {
     "name": "#%%\n"
    }
   }
  },
  {
   "cell_type": "code",
   "execution_count": null,
   "outputs": [],
   "source": [
    "#CONVERTING AN INTEGER TO CHARACTER\n",
    "chr(65)"
   ],
   "metadata": {
    "collapsed": false,
    "pycharm": {
     "name": "#%%\n"
    }
   }
  },
  {
   "cell_type": "code",
   "execution_count": null,
   "outputs": [],
   "source": [
    "#FINDING THE LENGTH OF A STRING\n",
    "s = 'BUILT-IN FUNCTIONS IN STRINGS'\n",
    "len(s)"
   ],
   "metadata": {
    "collapsed": false,
    "pycharm": {
     "name": "#%%\n"
    }
   }
  },
  {
   "cell_type": "code",
   "execution_count": null,
   "outputs": [],
   "source": [
    "#Write Python Code to Determine Whether the Given String Is a Palindrome or Not Using Slicing\n",
    "def main():\n",
    "    user_string = input(\"Enter string: \")\n",
    "    if user_string == user_string[::-1]:\n",
    "        print(f\"User entered string {user_string} is palindrome\")\n",
    "    else:\n",
    "        print(f\"User entered string {user_string} is not a palindrome\")\n",
    "if __name__ == \"__main__\":\n",
    "    main()"
   ],
   "metadata": {
    "collapsed": false,
    "pycharm": {
     "name": "#%%\n"
    }
   }
  },
  {
   "cell_type": "code",
   "execution_count": null,
   "outputs": [],
   "source": [
    "string_1 = \"face\"\n",
    "string_2 = \"book\"\n",
    "concatenated_string = string_1 + string_2\n",
    "concatenated_string"
   ],
   "metadata": {
    "collapsed": false,
    "pycharm": {
     "name": "#%%\n"
    }
   }
  },
  {
   "cell_type": "code",
   "execution_count": null,
   "outputs": [],
   "source": [
    "repetition_of_string = \"wow\" * 5\n",
    "repetition_of_string"
   ],
   "metadata": {
    "collapsed": false,
    "pycharm": {
     "name": "#%%\n"
    }
   }
  },
  {
   "cell_type": "code",
   "execution_count": null,
   "outputs": [],
   "source": [
    "fruit_string = \"apple is a fruit\"\n",
    "fruit_sub_string = \"apple\"\n",
    "fruit_sub_string in fruit_string"
   ],
   "metadata": {
    "collapsed": false,
    "pycharm": {
     "name": "#%%\n"
    }
   }
  },
  {
   "cell_type": "code",
   "execution_count": null,
   "outputs": [],
   "source": [
    "another_fruit_string = \"orange\"\n",
    "another_fruit_string not in fruit_string"
   ],
   "metadata": {
    "collapsed": false,
    "pycharm": {
     "name": "#%%\n"
    }
   }
  },
  {
   "cell_type": "code",
   "execution_count": null,
   "outputs": [],
   "source": [
    "\"january\" == \"jane\""
   ],
   "metadata": {
    "collapsed": false,
    "pycharm": {
     "name": "#%%\n"
    }
   }
  },
  {
   "cell_type": "code",
   "execution_count": null,
   "outputs": [],
   "source": [
    "\"january\" != \"jane\""
   ],
   "metadata": {
    "collapsed": false,
    "pycharm": {
     "name": "#%%\n"
    }
   }
  },
  {
   "cell_type": "code",
   "execution_count": null,
   "outputs": [],
   "source": [
    "\"january\" < \"jane\""
   ],
   "metadata": {
    "collapsed": false,
    "pycharm": {
     "name": "#%%\n"
    }
   }
  },
  {
   "cell_type": "code",
   "execution_count": null,
   "outputs": [],
   "source": [
    "\"january\" > \"jane\""
   ],
   "metadata": {
    "collapsed": false,
    "pycharm": {
     "name": "#%%\n"
    }
   }
  },
  {
   "cell_type": "code",
   "execution_count": null,
   "outputs": [],
   "source": [
    "\"january\" <= \"jane\""
   ],
   "metadata": {
    "collapsed": false,
    "pycharm": {
     "name": "#%%\n"
    }
   }
  },
  {
   "cell_type": "code",
   "execution_count": null,
   "outputs": [],
   "source": [
    "\"january\" >= \"jane\""
   ],
   "metadata": {
    "collapsed": false,
    "pycharm": {
     "name": "#%%\n"
    }
   }
  },
  {
   "cell_type": "code",
   "execution_count": null,
   "outputs": [],
   "source": [
    "numbers = \"123\"\n",
    "characters = \"amy\"\n",
    "password = numbers.join(characters)\n",
    "password"
   ],
   "metadata": {
    "collapsed": false,
    "pycharm": {
     "name": "#%%\n"
    }
   }
  },
  {
   "cell_type": "code",
   "execution_count": null,
   "outputs": [],
   "source": [
    "inventors = \"edison, tesla, marconi, newton\"\n",
    "inventors.split(\",\" )                                 #OUTPUT : ['edison', ' tesla', ' marconi', ' newton']"
   ],
   "metadata": {
    "collapsed": false,
    "pycharm": {
     "name": "#%%\n"
    }
   }
  },
  {
   "cell_type": "code",
   "execution_count": null,
   "outputs": [],
   "source": [
    "watches = \"rolex hublot cartier omega\"\n",
    "watches.split()                                       #OUTPUT : ['rolex', 'hublot', 'cartier', 'omega']"
   ],
   "metadata": {
    "collapsed": false,
    "pycharm": {
     "name": "#%%\n"
    }
   }
  },
  {
   "cell_type": "code",
   "execution_count": null,
   "outputs": [],
   "source": [
    "txt = \"apple#banana#cherry#orange\"\n",
    "# setting the maxsplit parameter to 1, will return a list with 2 elements!\n",
    "x = txt.split(\"#\", 1)\n",
    "print(x)"
   ],
   "metadata": {
    "collapsed": false,
    "pycharm": {
     "name": "#%%\n"
    }
   }
  },
  {
   "cell_type": "code",
   "execution_count": null,
   "outputs": [],
   "source": [
    "#Program to Demonstrate String Traversing Using the for Loop\n",
    "def main():\n",
    "    alphabet = \"google\"\n",
    "    index = 0\n",
    "    print(f\"In the string '{alphabet}'\")\n",
    "    for each_character in alphabet:\n",
    "        print(f\"Character '{each_character}' has an index value of {index}\")\n",
    "        index += 1\n",
    "if __name__ == \"__main__\":\n",
    "    main()"
   ],
   "metadata": {
    "collapsed": false,
    "pycharm": {
     "name": "#%%\n"
    }
   }
  },
  {
   "cell_type": "code",
   "execution_count": null,
   "outputs": [],
   "source": [
    "#Write Python Program to Count the Total Number of Vowels,Consonants and Blanks in a String\n",
    "def main():\n",
    "    user_string = input(\"Enter a string: \")\n",
    "    vowels = 0\n",
    "    consonants = 0\n",
    "    blanks = 0\n",
    "    for each_character in user_string:\n",
    "        if(each_character == 'a' or each_character == 'e' or each_character == 'i' or each_character == 'o' or each_character == 'u'):\n",
    "            vowels += 1\n",
    "        elif \"a\" < each_character < \"z\":\n",
    "            consonants += 1\n",
    "        elif each_character == \" \":\n",
    "            blanks += 1\n",
    "    print(f\"Total number of Vowels in user entered string is {vowels}\")\n",
    "    print(f\"Total number of Consonants in user entered string is {consonants}\")\n",
    "    print(f\"Total number of Blanks in user entered string is {blanks}\")\n",
    "if __name__ == \"__main__\":\n",
    "    main()"
   ],
   "metadata": {
    "collapsed": false,
    "pycharm": {
     "name": "#%%\n"
    }
   }
  },
  {
   "cell_type": "code",
   "execution_count": null,
   "outputs": [],
   "source": [
    "#Write Python Program to Calculate the Length of a String Without Using Built-In len() Function\n",
    "def main():\n",
    "    user_string = input(\"Enter a string: \")\n",
    "    count_character = 0\n",
    "    for each_character in user_string:\n",
    "        count_character += 1\n",
    "    print(f\"The length of user entered string: {user_string} is {count_character} \")\n",
    "if __name__ == \"__main__\":\n",
    "    main()"
   ],
   "metadata": {
    "collapsed": false,
    "pycharm": {
     "name": "#%%\n"
    }
   }
  },
  {
   "cell_type": "code",
   "execution_count": null,
   "outputs": [],
   "source": [
    "\n",
    "# Python program to demonstrate Creation of List\n",
    "\n",
    "# Creating a List\n",
    "List = []\n",
    "print(\"Blank List: \")\n",
    "print(List)\n",
    "\n",
    "# Creating a List of numbers\n",
    "List = [10, 20, 14]\n",
    "print(\"\\nList of numbers: \")\n",
    "print(List)\n",
    "\n",
    "# list with mixed data types\n",
    "List = [1, \"Hello\", 3.4]\n",
    "print(\"\\nList of mixed data types\")\n",
    "print(List)\n",
    "\n",
    "# Creating a List of strings and accessing using index\n",
    "List = [\"Creation\", \"of\", \"List\"]\n",
    "print(\"\\nList Items: \")\n",
    "print(List[0])\n",
    "print(List[2])\n",
    "\n",
    "# Creating a Multi-Dimensional List (By Nesting a list inside a List)\n",
    "List = [['Creation', 'of'] , ['List']]\n",
    "print(\"\\nMulti-Dimensional List OR Nested List: \")\n",
    "print(List)"
   ],
   "metadata": {
    "collapsed": false,
    "pycharm": {
     "name": "#%%\n"
    }
   }
  },
  {
   "cell_type": "code",
   "execution_count": null,
   "outputs": [],
   "source": [
    "my_list = ['p', 'r', 'o', 'b', 'e']\n",
    "\n",
    "# first item\n",
    "print(my_list[0])  # p\n",
    "\n",
    "# third item\n",
    "print(my_list[2])  # o\n",
    "\n",
    "# fifth item\n",
    "print(my_list[4])  # e\n",
    "\n",
    "# Nested List\n",
    "n_list = [\"Happy\", [2, 0, 1, 5]]\n",
    "\n",
    "# Nested indexing\n",
    "print(n_list[0][1])\n",
    "\n",
    "print(n_list[1][3])\n",
    "\n",
    "# Error! Only integer can be used for indexing\n",
    "print(my_list[4.0])"
   ],
   "metadata": {
    "collapsed": false,
    "pycharm": {
     "name": "#%%\n"
    }
   }
  },
  {
   "cell_type": "code",
   "execution_count": null,
   "outputs": [],
   "source": [
    "# Negative indexing in lists\n",
    "my_list = ['p','r','o','b','e']\n",
    "\n",
    "# last item\n",
    "print(my_list[-1])\n",
    "\n",
    "# fifth last item\n",
    "print(my_list[-5])"
   ],
   "metadata": {
    "collapsed": false,
    "pycharm": {
     "name": "#%%\n"
    }
   }
  },
  {
   "cell_type": "code",
   "execution_count": null,
   "outputs": [],
   "source": [
    "# List slicing in Python\n",
    "\n",
    "my_list = ['p','r','o','g','r','a','m','i','z']\n",
    "\n",
    "# elements from index 2 to index 4\n",
    "print(my_list[2:5])\n",
    "\n",
    "# elements from index 5 to end\n",
    "print(my_list[5:])\n",
    "\n",
    "# elements beginning to end\n",
    "print(my_list[:])"
   ],
   "metadata": {
    "collapsed": false,
    "pycharm": {
     "name": "#%%\n"
    }
   }
  },
  {
   "cell_type": "code",
   "execution_count": null,
   "outputs": [],
   "source": [
    "# Correcting mistake values in a list\n",
    "odd = [2, 4, 6, 8]\n",
    "\n",
    "# change the 1st item\n",
    "odd[0] = 1\n",
    "\n",
    "print(odd)\n",
    "\n",
    "# change 2nd to 4th items\n",
    "odd[1:4] = [3, 5, 7]\n",
    "\n",
    "print(odd)"
   ],
   "metadata": {
    "collapsed": false,
    "pycharm": {
     "name": "#%%\n"
    }
   }
  },
  {
   "cell_type": "code",
   "execution_count": null,
   "outputs": [],
   "source": [
    "# Appending and Extending lists in Python\n",
    "odd = [1, 3, 5]\n",
    "\n",
    "odd.append(7)\n",
    "\n",
    "print(odd)\n",
    "\n",
    "odd.extend([9, 11, 13])\n",
    "\n",
    "print(odd)"
   ],
   "metadata": {
    "collapsed": false,
    "pycharm": {
     "name": "#%%\n"
    }
   }
  },
  {
   "cell_type": "code",
   "execution_count": 1,
   "outputs": [
    {
     "name": "stdout",
     "output_type": "stream",
     "text": [
      "List inside the nested list:  ['a', 1]\n",
      "First element of the sublist:  a\n"
     ]
    }
   ],
   "source": [
    "# creating list\n",
    "nestedList = [1, 2, ['a', 1], 3]\n",
    "\n",
    "# indexing list: the sublist has now been accessed\n",
    "subList = nestedList[2]\n",
    "\n",
    "# access the first element inside the inner list:\n",
    "element = nestedList[2][0]\n",
    "\n",
    "print(\"List inside the nested list: \", subList)\n",
    "print(\"First element of the sublist: \", element)"
   ],
   "metadata": {
    "collapsed": false,
    "pycharm": {
     "name": "#%%\n"
    }
   }
  },
  {
   "cell_type": "code",
   "execution_count": 23,
   "outputs": [
    {
     "name": "stdout",
     "output_type": "stream",
     "text": [
      "['cc', 'dd', ['eee', 'fff']]\n",
      "['eee', 'fff']\n",
      "eee\n"
     ]
    }
   ],
   "source": [
    "L = ['a', 'b', ['cc', 'dd', ['eee', 'fff']], 'g', 'h']\n",
    "\n",
    "print(L[2])\n",
    "# Prints ['cc', 'dd', ['eee', 'fff']]\n",
    "\n",
    "print(L[2][2])\n",
    "# Prints ['eee', 'fff']\n",
    "\n",
    "print(L[2][2][0])"
   ],
   "metadata": {
    "collapsed": false,
    "pycharm": {
     "name": "#%%\n"
    }
   }
  },
  {
   "cell_type": "code",
   "execution_count": 21,
   "outputs": [
    {
     "name": "stdout",
     "output_type": "stream",
     "text": [
      "Number of lists in list =  3\n"
     ]
    }
   ],
   "source": [
    "# List of lists\n",
    "listOfElems2D = [ [1,2,3,45,6,7],\n",
    "                    [22,33,44,55],\n",
    "                    [11,13,14,15] ]\n",
    "length = len(listOfElems2D)\n",
    "print('Number of lists in list = ', length)"
   ],
   "metadata": {
    "collapsed": false,
    "pycharm": {
     "name": "#%%\n"
    }
   }
  },
  {
   "cell_type": "code",
   "execution_count": 24,
   "outputs": [
    {
     "name": "stdout",
     "output_type": "stream",
     "text": [
      "3\n",
      "2\n"
     ]
    }
   ],
   "source": [
    "L = ['a', ['bb', 'cc'], 'd']\n",
    "\n",
    "print(len(L))\n",
    "# Prints 3\n",
    "\n",
    "print(len(L[1]))\n",
    "# Prints 2"
   ],
   "metadata": {
    "collapsed": false,
    "pycharm": {
     "name": "#%%\n"
    }
   }
  },
  {
   "cell_type": "code",
   "execution_count": 22,
   "outputs": [
    {
     "name": "stdout",
     "output_type": "stream",
     "text": [
      "matrix: \n",
      "[0, 1, 2]\n",
      "[3, 4, 5]\n",
      "[6, 7, 8]\n",
      "[9, 10, 11]\n",
      "element on row 2 and column 1:  3\n",
      "element on row 3 and column 2:  7\n"
     ]
    }
   ],
   "source": [
    "# create matrix of size 4 x 3\n",
    "matrix = [[0, 1, 2],\n",
    "          [3, 4, 5],\n",
    "          [6, 7, 8],\n",
    "          [9, 10, 11]]\n",
    "\n",
    "rows = len(matrix)  # no of rows is no of sublists i.e. len of list\n",
    "cols = len(matrix[0])  # no of cols is len of sublist\n",
    "\n",
    "# printing matrix\n",
    "print(\"matrix: \")\n",
    "for i in range(0, rows):\n",
    "    print(matrix[i])\n",
    "\n",
    "# accessing the element on row 2 and column 1 i.e. 3\n",
    "print(\"element on row 2 and column 1: \", matrix[1][0])\n",
    "\n",
    "# accessing the element on row 3 and column 2 i.e. 7\n",
    "print(\"element on row 3 and column 2: \", matrix[2][1])"
   ],
   "metadata": {
    "collapsed": false,
    "pycharm": {
     "name": "#%%\n"
    }
   }
  },
  {
   "cell_type": "code",
   "execution_count": null,
   "outputs": [],
   "source": [
    "L = ['a', 'b', ['cc', 'dd', ['eee', 'fff']], 'g', 'h']\n",
    "\n",
    "print(L[-3])\n",
    "# Prints ['cc', 'dd', ['eee', 'fff']]\n",
    "\n",
    "print(L[-3][-1])\n",
    "# Prints ['eee', 'fff']\n",
    "\n",
    "print(L[-3][-1][-2])\n",
    "# Prints eee"
   ],
   "metadata": {
    "collapsed": false,
    "pycharm": {
     "name": "#%%\n"
    }
   }
  },
  {
   "cell_type": "code",
   "execution_count": 25,
   "outputs": [
    {
     "name": "stdout",
     "output_type": "stream",
     "text": [
      "['a', ['bb', 'cc', 'xx'], 'd']\n"
     ]
    }
   ],
   "source": [
    "L = ['a', ['bb', 'cc'], 'd']\n",
    "L[1].append('xx')\n",
    "print(L)\n",
    "# Prints ['a', ['bb', 'cc', 'xx'], 'd']"
   ],
   "metadata": {
    "collapsed": false,
    "pycharm": {
     "name": "#%%\n"
    }
   }
  },
  {
   "cell_type": "code",
   "execution_count": null,
   "outputs": [],
   "source": [
    "L = ['a', ['bb', 'cc'], 'd']\n",
    "L[1].insert(0,'xx')\n",
    "print(L)\n",
    "# Prints ['a', ['xx', 'bb', 'cc'], 'd']"
   ],
   "metadata": {
    "collapsed": false,
    "pycharm": {
     "name": "#%%\n"
    }
   }
  },
  {
   "cell_type": "code",
   "execution_count": 26,
   "outputs": [
    {
     "name": "stdout",
     "output_type": "stream",
     "text": [
      "['a', ['bb', 'cc', 1, 2, 3], 'd']\n"
     ]
    }
   ],
   "source": [
    "L = ['a', ['bb', 'cc'], 'd']\n",
    "L[1].extend([1,2,3])\n",
    "print(L)\n",
    "# Prints ['a', ['bb', 'cc', 1, 2, 3], 'd']"
   ],
   "metadata": {
    "collapsed": false,
    "pycharm": {
     "name": "#%%\n"
    }
   }
  },
  {
   "cell_type": "code",
   "execution_count": 27,
   "outputs": [
    {
     "name": "stdout",
     "output_type": "stream",
     "text": [
      "['a', ['bb', 'dd'], 'e']\n",
      "cc\n"
     ]
    }
   ],
   "source": [
    "L = ['a', ['bb', 'cc', 'dd'], 'e']\n",
    "x = L[1].pop(1)\n",
    "print(L)\n",
    "# Prints ['a', ['bb', 'dd'], 'e']\n",
    "\n",
    "# removed item\n",
    "print(x)\n",
    "# Prints cc"
   ],
   "metadata": {
    "collapsed": false,
    "pycharm": {
     "name": "#%%\n"
    }
   }
  },
  {
   "cell_type": "code",
   "execution_count": 2,
   "outputs": [
    {
     "name": "stdout",
     "output_type": "stream",
     "text": [
      "['a', ['bb', 'dd'], 'e']\n"
     ]
    }
   ],
   "source": [
    "L = ['a', ['bb', 'cc', 'dd'], 'e']\n",
    "del L[1][1]\n",
    "print(L)\n",
    "# Prints ['a', ['bb', 'dd'], 'e']"
   ],
   "metadata": {
    "collapsed": false,
    "pycharm": {
     "name": "#%%\n"
    }
   }
  },
  {
   "cell_type": "code",
   "execution_count": 28,
   "outputs": [
    {
     "name": "stdout",
     "output_type": "stream",
     "text": [
      "['a', ['bb', 'dd'], 'e']\n"
     ]
    }
   ],
   "source": [
    "L = ['a', ['bb', 'cc', 'dd'], 'e']\n",
    "L[1].remove('cc')\n",
    "print(L)\n",
    "# Prints ['a', ['bb', 'dd'], 'e']"
   ],
   "metadata": {
    "collapsed": false,
    "pycharm": {
     "name": "#%%\n"
    }
   }
  },
  {
   "cell_type": "code",
   "execution_count": 33,
   "outputs": [
    {
     "name": "stdout",
     "output_type": "stream",
     "text": [
      "[0, 1, 2, 3, 4]\n",
      "[0, 1, 2, 3, 4]\n",
      "[0, 1, 2, 3, 4]\n",
      "[0, 1, 2, 3, 4]\n",
      "[0, 1, 2, 3, 4]\n"
     ]
    }
   ],
   "source": [
    "\n",
    "matrix = []\n",
    "\n",
    "for i in range(5):\n",
    "\n",
    "    # Append an empty sublist inside the list\n",
    "    matrix.append([])\n",
    "\n",
    "    for j in range(5):\n",
    "        matrix[i].append(j)\n",
    "    print(matrix[i])\n",
    "#print(matrix)"
   ],
   "metadata": {
    "collapsed": false,
    "pycharm": {
     "name": "#%%\n"
    }
   }
  },
  {
   "cell_type": "code",
   "execution_count": 4,
   "outputs": [
    {
     "name": "stdout",
     "output_type": "stream",
     "text": [
      "The value of pi is 3.141592653589793\n"
     ]
    }
   ],
   "source": [
    "# import statement example to import standard module math\n",
    "\n",
    "import math\n",
    "print(\"The value of pi is\", math.pi)"
   ],
   "metadata": {
    "collapsed": false,
    "pycharm": {
     "name": "#%%\n"
    }
   }
  },
  {
   "cell_type": "code",
   "execution_count": 5,
   "outputs": [
    {
     "name": "stdout",
     "output_type": "stream",
     "text": [
      "4.0\n",
      "720\n"
     ]
    }
   ],
   "source": [
    "# importing sqrt() and factorial from the module math\n",
    "from math import sqrt, factorial\n",
    "\n",
    "# if we simply do \"import math\", then math.sqrt(16) and math.factorial() are required.\n",
    "print(sqrt(16))\n",
    "print(factorial(6))"
   ],
   "metadata": {
    "collapsed": false,
    "pycharm": {
     "name": "#%%\n"
    }
   }
  },
  {
   "cell_type": "code",
   "execution_count": 6,
   "outputs": [
    {
     "name": "stdout",
     "output_type": "stream",
     "text": [
      "Random number between 5 and 15 is 14\n",
      "Random number between -10 and -2 is -9\n"
     ]
    }
   ],
   "source": [
    "# Python3 program explaining work\n",
    "# of randint() function\n",
    "\n",
    "# import random module\n",
    "import random\n",
    "\n",
    "# Generates a random number between\n",
    "# a given positive range\n",
    "r1 = random.randint(5, 15)\n",
    "print(\"Random number between 5 and 15 is % s\" % (r1))\n",
    "\n",
    "# Generates a random number between\n",
    "# two given negative range\n",
    "r2 = random.randint(-10, -2)\n",
    "print(\"Random number between -10 and -2 is % d\" % (r2))"
   ],
   "metadata": {
    "collapsed": false,
    "pycharm": {
     "name": "#%%\n"
    }
   }
  },
  {
   "cell_type": "code",
   "execution_count": 10,
   "outputs": [
    {
     "name": "stdout",
     "output_type": "stream",
     "text": [
      "😀 😃\n",
      "😁 🤣\n",
      "🚀 😎\n"
     ]
    }
   ],
   "source": [
    "print(\"\\U0001F600 \\U0001F603\")\n",
    "print(\"\\U0001F601 \\U0001F923\")\n",
    "print(\"\\U0001F680 \\U0001F60E\")"
   ],
   "metadata": {
    "collapsed": false,
    "pycharm": {
     "name": "#%%\n"
    }
   }
  },
  {
   "cell_type": "code",
   "execution_count": 5,
   "outputs": [
    {
     "name": "stdout",
     "output_type": "stream",
     "text": [
      "Collecting emoji\n",
      "  Downloading emoji-1.6.1.tar.gz (170 kB)\n",
      "  Preparing metadata (setup.py): started\n",
      "  Preparing metadata (setup.py): finished with status 'done'\n",
      "Building wheels for collected packages: emoji\n",
      "  Building wheel for emoji (setup.py): started\n",
      "  Building wheel for emoji (setup.py): finished with status 'done'\n",
      "  Created wheel for emoji: filename=emoji-1.6.1-py3-none-any.whl size=169314 sha256=82d30ab88894fd3a25ce9cd53d577f499b41406f39a09edbe6500b268bcad9af\n",
      "  Stored in directory: c:\\users\\asha rani k p\\appdata\\local\\pip\\cache\\wheels\\3d\\c9\\af\\02caa5725634f27f4e2e43852f67fc9069d014038b236a827e\n",
      "Successfully built emoji\n",
      "Installing collected packages: emoji\n",
      "Successfully installed emoji-1.6.1\n",
      "Note: you may need to restart the kernel to use updated packages.\n"
     ]
    }
   ],
   "source": [
    "pip install emoji"
   ],
   "metadata": {
    "collapsed": false,
    "pycharm": {
     "name": "#%%\n"
    }
   }
  },
  {
   "cell_type": "code",
   "execution_count": 6,
   "outputs": [
    {
     "name": "stdout",
     "output_type": "stream",
     "text": [
      "👍\n"
     ]
    }
   ],
   "source": [
    "# Install Emoji Package Using\n",
    "#pip install emoji\n",
    "\n",
    "from emoji import emojize\n",
    "print(emojize(\":thumbs_up:\"))"
   ],
   "metadata": {
    "collapsed": false,
    "pycharm": {
     "name": "#%%\n"
    }
   }
  },
  {
   "cell_type": "code",
   "execution_count": 7,
   "outputs": [
    {
     "name": "stdout",
     "output_type": "stream",
     "text": [
      "😃\n",
      "😜\n",
      "🤐\n"
     ]
    }
   ],
   "source": [
    "# import emoji module\n",
    "import emoji\n",
    "\n",
    "\n",
    "print(emoji.emojize(\":grinning_face_with_big_eyes:\"))\n",
    "print(emoji.emojize(\":winking_face_with_tongue:\"))\n",
    "print(emoji.emojize(\":zipper-mouth_face:\"))"
   ],
   "metadata": {
    "collapsed": false,
    "pycharm": {
     "name": "#%%\n"
    }
   }
  },
  {
   "cell_type": "code",
   "source": [
    "import array as arr\n",
    "a = arr.array('d', [1.1, 3.5, 4.5])\n",
    "print(a)"
   ],
   "metadata": {
    "collapsed": false,
    "pycharm": {
     "name": "#%%\n"
    }
   },
   "execution_count": 1,
   "outputs": [
    {
     "name": "stdout",
     "output_type": "stream",
     "text": [
      "array('d', [1.1, 3.5, 4.5])\n"
     ]
    }
   ]
  },
  {
   "cell_type": "code",
   "execution_count": 2,
   "outputs": [
    {
     "name": "stdout",
     "output_type": "stream",
     "text": [
      "First element: 2\n",
      "Second element: 4\n",
      "Last element: 8\n"
     ]
    }
   ],
   "source": [
    "import array as arr\n",
    "a = arr.array('i', [2, 4, 6, 8])\n",
    "\n",
    "print(\"First element:\", a[0])\n",
    "print(\"Second element:\", a[1])\n",
    "print(\"Last element:\", a[-1])"
   ],
   "metadata": {
    "collapsed": false,
    "pycharm": {
     "name": "#%%\n"
    }
   }
  },
  {
   "cell_type": "code",
   "execution_count": 3,
   "outputs": [
    {
     "name": "stdout",
     "output_type": "stream",
     "text": [
      "array('i', [62, 5, 42])\n",
      "array('i', [2, 5, 62])\n",
      "array('i', [52, 48, 5])\n",
      "array('i', [2, 5, 62, 5, 42, 52, 48, 5])\n"
     ]
    }
   ],
   "source": [
    "import array as arr\n",
    "\n",
    "numbers_list = [2, 5, 62, 5, 42, 52, 48, 5]\n",
    "numbers_array = arr.array('i', numbers_list)\n",
    "\n",
    "print(numbers_array[2:5]) # 3rd to 5th\n",
    "print(numbers_array[:-5]) # beginning to 4th\n",
    "print(numbers_array[5:])  # 6th to end\n",
    "print(numbers_array[:])   # beginning to end"
   ],
   "metadata": {
    "collapsed": false,
    "pycharm": {
     "name": "#%%\n"
    }
   }
  }
 ],
 "metadata": {
  "kernelspec": {
   "display_name": "Python 3",
   "language": "python",
   "name": "python3"
  },
  "language_info": {
   "codemirror_mode": {
    "name": "ipython",
    "version": 2
   },
   "file_extension": ".py",
   "mimetype": "text/x-python",
   "name": "python",
   "nbconvert_exporter": "python",
   "pygments_lexer": "ipython2",
   "version": "2.7.6"
  }
 },
 "nbformat": 4,
 "nbformat_minor": 0
}