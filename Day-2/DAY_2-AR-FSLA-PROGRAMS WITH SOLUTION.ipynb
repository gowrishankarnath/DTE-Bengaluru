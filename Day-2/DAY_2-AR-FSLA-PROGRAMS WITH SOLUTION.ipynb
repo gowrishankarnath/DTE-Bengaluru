{
 "cells": [
  {
   "cell_type": "markdown",
   "source": [
    "<ul>\n",
    "<div style=\"text-align: LEFT\"> <div style=\"color:BLUE\"> <font size=\"13\"> <p><b>FUNCTIONS PROGRAMS</b></p></div> </div></font>\n",
    "<div style=\"color:white\"> <font size=\"12\">\n",
    "</div></font>\n",
    "</ul>"
   ],
   "metadata": {
    "collapsed": false
   }
  },
  {
   "cell_type": "markdown",
   "source": [
    "<ul>\n",
    "<div style=\"color:BLACK\"> <font size=\"12\">\n",
    "<li>1.program to <strong>find the sum of two numbers</strong></li>\n",
    "</div></font>\n",
    "</ul>"
   ],
   "metadata": {
    "collapsed": false,
    "pycharm": {
     "name": "#%% md\n"
    }
   }
  },
  {
   "cell_type": "code",
   "execution_count": 19,
   "outputs": [
    {
     "name": "stdout",
     "output_type": "stream",
     "text": [
      "THE SUM OF TWO NUMBERS IS 3\n"
     ]
    }
   ],
   "source": [
    "#python3 program to find the sum of two numbers\n",
    "a=int(input(\"ENTER THE FIRST NUMBER\"))#prompting the user for input and performing type-casting to convert the input from\n",
    "b=int(input(\"ENTER THE SECOND NUMBER\"))  # string to int\n",
    "def add():#function definition of add function\n",
    "  sum=a+b#adding two numbers and storing the result in the variable sum\n",
    "  return sum #returning the sum when the function is called\n",
    "def main():#function definition of main function\n",
    "  result=add()#calling the function add and storing the returning value in the variable result\n",
    "  print(f\"THE SUM OF TWO NUMBERS IS {result}\")#printing the sum of two numbers\n",
    "if(__name__==\"__main__\"):\n",
    "  main()#calling the main function\n"
   ],
   "metadata": {
    "collapsed": false,
    "pycharm": {
     "name": "#%%\n"
    }
   }
  },
  {
   "cell_type": "markdown",
   "source": [
    "<ul>\n",
    "<div style=\"color:BLACK\"> <font size=\"12\">\n",
    "<li>2.program to <strong>check whether the given number is even or odd</strong></li>\n",
    "</div></font>\n",
    "</ul>"
   ],
   "metadata": {
    "collapsed": false,
    "pycharm": {
     "name": "#%% md\n"
    }
   }
  },
  {
   "cell_type": "code",
   "execution_count": 14,
   "outputs": [
    {
     "name": "stdout",
     "output_type": "stream",
     "text": [
      "123 is odd\n"
     ]
    }
   ],
   "source": [
    "#python3 program to check whether the given number is even or odd\n",
    "n=int(input(\"ENTER THE NUMBER\"))#prompting the user for input and performing type-casting to convert the input from string to int\n",
    "def even_or_odd():#function definition of the function even_or_odd\n",
    "  if(n%2==0):#conditional statement to check whether the number is divisible by 2\n",
    "    print(f\"{n} is even\")#printing the number is even if the condition is true\n",
    "  else:\n",
    "    print(f\"{n} is odd\")#printing the number is odd if the condition is false\n",
    "def main():#function definition of the main function\n",
    "  even_or_odd()#calling the even_or_odd function\n",
    "if(__name__==\"__main__\"):\n",
    "  main()#calling the main function"
   ],
   "metadata": {
    "collapsed": false,
    "pycharm": {
     "name": "#%%\n"
    }
   }
  },
  {
   "cell_type": "markdown",
   "source": [
    "<ul>\n",
    "<div style=\"color:BLACK\"> <font size=\"12\">\n",
    "<li>3.program to <strong>find the square of a number</strong></li>\n",
    "</div></font>\n",
    "</ul>"
   ],
   "metadata": {
    "collapsed": false,
    "pycharm": {
     "name": "#%% md\n"
    }
   }
  },
  {
   "cell_type": "code",
   "execution_count": 15,
   "outputs": [
    {
     "name": "stdout",
     "output_type": "stream",
     "text": [
      "THE SQUARE OF 23 IS 529\n"
     ]
    }
   ],
   "source": [
    "#python3 program to find the square of a number\n",
    "n=int(input(\"ENTER THE NUMBER\"))#prompting the user for input and performing type casting to convert the input from string to int\n",
    "def square():#function definition of the square function\n",
    "  result=n**2#performing the square of a number and storing it in the variable result\n",
    "  return result#returning the result\n",
    "def main():#function definition of the main function\n",
    "  sq=square()#calling the square function and storing the returning value in variable square\n",
    "  print(f\"THE SQUARE OF {n} IS {sq}\")#printing the number and square of the number\n",
    "if(__name__==\"__main__\"):\n",
    "  main()#calling the main function"
   ],
   "metadata": {
    "collapsed": false,
    "pycharm": {
     "name": "#%%\n"
    }
   }
  },
  {
   "cell_type": "markdown",
   "source": [
    "<ul>\n",
    "<div style=\"color:BLACK\"> <font size=\"12\">\n",
    "<li>4.program to <strong>swap two numbers</strong></li>\n",
    "</div></font>\n",
    "</ul>"
   ],
   "metadata": {
    "collapsed": false,
    "pycharm": {
     "name": "#%% md\n"
    }
   }
  },
  {
   "cell_type": "code",
   "execution_count": 16,
   "outputs": [
    {
     "name": "stdout",
     "output_type": "stream",
     "text": [
      "before swaping value of x is23 and y is 45\n",
      "AFTER SWAPING VALUE OF x IS 45 AND y IS 23\n"
     ]
    }
   ],
   "source": [
    "#python3 program to swap two numbers\n",
    "x=int(input(\"ENTER THE 1st NUMBER\"))#prompting the user for input and performing type-casting to convert the input from string to int\n",
    "\n",
    "y=int(input(\"ENTER THE 2nd NUMBER\"))\n",
    "def swap(x,y):#function definition of the function swap with two arguments x and y\n",
    "  print(f\"before swaping value of x is{x} and y is {y}\")#printing the values of x and y before swapping\n",
    "  temp=x#swaping the values of x and y by taking one temp variable\n",
    "  x=y\n",
    "  y=temp\n",
    "  print(f\"AFTER SWAPING VALUE OF x IS {x} AND y IS {y}\")#printing the values of x and y after swapping\n",
    "def main():#function definition of main function\n",
    "  swap(x,y)#calling the swap function by passing two arguments x and y\n",
    "if(__name__==\"__main__\"):\n",
    "  main()#calling the main function"
   ],
   "metadata": {
    "collapsed": false,
    "pycharm": {
     "name": "#%%\n"
    }
   }
  },
  {
   "cell_type": "markdown",
   "source": [
    "<ul>\n",
    "<div style=\"color:BLACK\"> <font size=\"12\">\n",
    "<li>5.program to <strong>find the power of m rise to n</strong></li>\n",
    "</div></font>\n",
    "</ul>"
   ],
   "metadata": {
    "collapsed": false,
    "pycharm": {
     "name": "#%% md\n"
    }
   }
  },
  {
   "cell_type": "code",
   "execution_count": 17,
   "outputs": [
    {
     "name": "stdout",
     "output_type": "stream",
     "text": [
      "THE RESULT IS 8\n"
     ]
    }
   ],
   "source": [
    "#python3 program to find the power of m rise to n\n",
    "m=int(input(\"ENTER THE BASE NUMBER\"))#prompting the user for input and performing type-casting to convert the user input from string to int\n",
    "n=int(input(\"ENTER THE POWER TO WHICH THE NUMBER HAS TO BE RAISED\"))\n",
    "def power(m,n):#function definition of the power function with two arguments m and n\n",
    "  result=m**n#performing m power n and storing the result in variable result\n",
    "  return result#returning the result when the function is called\n",
    "def main():#function definition of the main function\n",
    "  res=power(m,n)#calling the function power by passing 2 arguments m and n and storing the returning value in the variable res\n",
    "  print(f\"THE RESULT IS {res}\")#printing the result\n",
    "if(__name__==\"__main__\"):\n",
    "  main()#calling the main function"
   ],
   "metadata": {
    "collapsed": false,
    "pycharm": {
     "name": "#%%\n"
    }
   }
  },
  {
   "cell_type": "markdown",
   "source": [
    "<ul>\n",
    "<div style=\"color:BLACK\"> <font size=\"12\">\n",
    "<li>6.program to <strong>find the number is niven</strong></li>\n",
    "</div></font>\n",
    "</ul>"
   ],
   "metadata": {
    "collapsed": false,
    "pycharm": {
     "name": "#%% md\n"
    }
   }
  },
  {
   "cell_type": "code",
   "execution_count": 18,
   "outputs": [
    {
     "name": "stdout",
     "output_type": "stream",
     "text": [
      "45 IS NIVEN NUMBER\n"
     ]
    }
   ],
   "source": [
    "#python3 program to find the number is niven\n",
    "#the number is niven if it is divisible by the sum of its digits\n",
    "n=int(input(\"ENTER THE NUMBER\"))#prompting the user for input\n",
    "def check_niven(n):#function definition of the function check_niven with one argument n\n",
    "  temp=n#assigning the value of n to temp\n",
    "  sum=0#initialising the value of sum to 0\n",
    "  while(temp>0):#conditional statement to check the number is greater than 0\n",
    "    last_digit=temp%10#accessing the last digit of the number\n",
    "    sum=sum+last_digit#calculating the sum of digits\n",
    "    temp=temp//10#accessing the remaining numbers leavimg the last digit\n",
    "  if(n%sum==0):#checking whether the number is completely divisible by the sum of digits\n",
    "    print(f\"{n} IS NIVEN NUMBER\")#printing the number is niven if the condition is true\n",
    "  else:\n",
    "    print(f\"{n} IS NOT NIVEN NUMBER\")#printing the number is not niven if the condition is false\n",
    "def main():#function definition of the main function\n",
    "  check_niven(n)#calling the function check_niven by passing one parameter n\n",
    "if(__name__==\"__main__\"):\n",
    "  main()#calling main function"
   ],
   "metadata": {
    "collapsed": false,
    "pycharm": {
     "name": "#%%\n"
    }
   }
  },
  {
   "cell_type": "markdown",
   "source": [
    "<ul>\n",
    "<div style=\"color:BLACK\"> <font size=\"12\">\n",
    "<li>7.program to <strong>find the number is palindrome</strong></li>\n",
    "</div></font>\n",
    "</ul>"
   ],
   "metadata": {
    "collapsed": false,
    "pycharm": {
     "name": "#%% md\n"
    }
   }
  },
  {
   "cell_type": "code",
   "execution_count": 19,
   "outputs": [
    {
     "name": "stdout",
     "output_type": "stream",
     "text": [
      "121 IS PALINDROME\n"
     ]
    }
   ],
   "source": [
    "#python3 program to check the number is palindrome\n",
    "n=int(input(\"ENTER THE NUMBER\"))#prompting the user for input and performing type-casting to convert the user input from string to int\n",
    "def palindrome(n):#function definition of the function palindrome with one argument n\n",
    "  temp=n#assigning the value of n to variable temp\n",
    "  rn=0#initialising the value of rn to o\n",
    "  while(temp>0):#checking whether the number is greater than 0\n",
    "    last_digit=temp%10#accessing the last digit of the number\n",
    "    rn=rn*10+last_digit\n",
    "    temp=temp//10#accessing the number leaving the last digit\n",
    "  if(n==rn):#checking whether n is equal to rn\n",
    "    print(f\"{n} IS PALINDROME\")#printing the number is palindrome if the condition is true\n",
    "  else:\n",
    "    print(f\"{n} IS NOT PALINDROME\")#printing the number is not palindrome if the condition is not true\n",
    "def main():#function definition of the main function\n",
    "  palindrome(n)#calling the function palindrome by passing one argument n\n",
    "if(__name__==\"__main__\"):\n",
    "  main()#calling the main function"
   ],
   "metadata": {
    "collapsed": false,
    "pycharm": {
     "name": "#%%\n"
    }
   }
  },
  {
   "cell_type": "markdown",
   "source": [
    "<ul>\n",
    "<div style=\"color:BLACK\"> <font size=\"12\">\n",
    "<li>8.program to <strong>find the largest of 3 numbers</strong></li>\n",
    "</div></font>\n",
    "</ul>"
   ],
   "metadata": {
    "collapsed": false,
    "pycharm": {
     "name": "#%% md\n"
    }
   }
  },
  {
   "cell_type": "code",
   "execution_count": 20,
   "outputs": [
    {
     "name": "stdout",
     "output_type": "stream",
     "text": [
      "3 is the largest\n"
     ]
    }
   ],
   "source": [
    "#python3 program to find the largest of 3 numbers\n",
    "a=int(input(\"ENTER 1st NUMBER \"))#prompting the user for input and performing type-casting to convert the user input from string to int\n",
    "b=int(input(\"ENTER 2nd NUMBER\"))\n",
    "c=int(input(\"ENTER 3rd NUMBER\"))\n",
    "def largest():#function definition of the function largest\n",
    "  if(a>b and a>c):#checking whether a is greater than b and c\n",
    "    print(f\"{a} is the largest\")#printing a is the largest if the condition is true\n",
    "  elif(b>a and b>c):#checking whether b is greater than both a and c\n",
    "    print(f\"{b} is the largest\")#printing b is the largest if the condition is true\n",
    "  else:\n",
    "    print(f\"{c} is the largest\")#printing c is the largest if both the condition is not true\n",
    "largest()#calling the function largest"
   ],
   "metadata": {
    "collapsed": false,
    "pycharm": {
     "name": "#%%\n"
    }
   }
  },
  {
   "cell_type": "markdown",
   "source": [
    "<ul>\n",
    "<div style=\"color:BLACK\"> <font size=\"12\">\n",
    "<li>9.program to <strong>Find the factors of the number</strong></li>\n",
    "</div></font>\n",
    "</ul>"
   ],
   "metadata": {
    "collapsed": false,
    "pycharm": {
     "name": "#%% md\n"
    }
   }
  },
  {
   "cell_type": "code",
   "source": [
    "#python3 program to find the factors of the number\n",
    "n=int(input(\"ENTER THE NUMBER\"))#prompting the user for input and performing type-casting to convert the user input from string to int\n",
    "def factors():#function definition of the function factors\n",
    "  print(f\"THE FACTORS OF {n} ARE\")#printing the factors of number are\n",
    "  for i in range (1,n):#looping statement to access all the values between 1 and the number\n",
    "    if(n%i==0):#checking whether n is divisible by i\n",
    "      print(i)#printing i if the condition is true\n",
    "factors()#calling the function factors"
   ],
   "metadata": {
    "collapsed": false,
    "pycharm": {
     "name": "#%%\n"
    }
   },
   "execution_count": 21,
   "outputs": [
    {
     "name": "stdout",
     "output_type": "stream",
     "text": [
      "THE FACTORS OF 56 ARE\n",
      "1\n",
      "2\n",
      "4\n",
      "7\n",
      "8\n",
      "14\n",
      "28\n"
     ]
    }
   ]
  },
  {
   "cell_type": "markdown",
   "source": [
    "<ul>\n",
    "<div style=\"text-align: LEFT\"> <div style=\"color:BLUE\"> <font size=\"13\"> <p><b>STRINGS PROGRAMS</b></p></div> </div></font>\n",
    "<div style=\"color:white\"> <font size=\"12\">\n",
    "</div></font>\n",
    "</ul>"
   ],
   "metadata": {
    "collapsed": false,
    "pycharm": {
     "name": "#%% md\n"
    }
   }
  },
  {
   "cell_type": "markdown",
   "source": [
    "<ul>\n",
    "<div style=\"color:BLACK\"> <font size=\"12\">\n",
    "<li>10.program to <strong>find the length of the string</strong></li>\n",
    "</div></font>\n",
    "</ul>"
   ],
   "metadata": {
    "collapsed": false,
    "pycharm": {
     "name": "#%% md\n"
    }
   }
  },
  {
   "cell_type": "code",
   "execution_count": 22,
   "outputs": [
    {
     "name": "stdout",
     "output_type": "stream",
     "text": [
      "THE NUMBER OF CHARACTERS IN 345 IS 3\n"
     ]
    }
   ],
   "source": [
    "#program to find the length of the string\n",
    "str=input(\"ENTER THE STRING\")#prompting the user for input a string\n",
    "count=0#initialising count variable to 0\n",
    "for each_char in str:#loop construct for accessing each character in the string\n",
    "  count+=1#incrementing the value of count\n",
    "print(f\"THE NUMBER OF CHARACTERS IN {str} IS {count}\")#printing the string and number of characters in it"
   ],
   "metadata": {
    "collapsed": false,
    "pycharm": {
     "name": "#%%\n"
    }
   }
  },
  {
   "cell_type": "markdown",
   "source": [
    "<ul>\n",
    "<div style=\"color:BLACK\"> <font size=\"12\">\n",
    "<li>11.program to <strong>reverse the string</strong></li>\n",
    "</div></font>\n",
    "</ul>"
   ],
   "metadata": {
    "collapsed": false,
    "pycharm": {
     "name": "#%% md\n"
    }
   }
  },
  {
   "cell_type": "code",
   "execution_count": 23,
   "outputs": [
    {
     "name": "stdout",
     "output_type": "stream",
     "text": [
      "THE REVERSED STRING IS 123\n"
     ]
    }
   ],
   "source": [
    "#program to reverse the string\n",
    "str=input(\"ENTER THE STRING\")#prompting the user to input a string\n",
    "rev=str[::-1]#performing slicing operation to reverse the string and storing it in variable rev\n",
    "print(f\"THE REVERSED STRING IS {rev}\")#printing the reversed string"
   ],
   "metadata": {
    "collapsed": false,
    "pycharm": {
     "name": "#%%\n"
    }
   }
  },
  {
   "cell_type": "markdown",
   "source": [
    "<ul>\n",
    "<div style=\"color:BLACK\"> <font size=\"12\">\n",
    "<li>12.program to <strong>print the even length words in the string</strong></li>\n",
    "</div></font>\n",
    "</ul>"
   ],
   "metadata": {
    "collapsed": false,
    "pycharm": {
     "name": "#%% md\n"
    }
   }
  },
  {
   "cell_type": "code",
   "execution_count": 25,
   "outputs": [
    {
     "name": "stdout",
     "output_type": "stream",
     "text": [
      "FG\n"
     ]
    }
   ],
   "source": [
    "#python3 code to print the even length words in the string\n",
    "s=input(\"ENTER THE STRING\")#prompting the user to input a string\n",
    "def printWords(s):#function definition of the function printWords\n",
    " s=s.split()#spliting the string\n",
    " for word in s:#iterating in words of string\n",
    "   if len(word)%2==0:#checking if the length is even\n",
    "     print(word)#printing the word if the condition is true\n",
    "printWords(s)#calling the function printWords"
   ],
   "metadata": {
    "collapsed": false,
    "pycharm": {
     "name": "#%%\n"
    }
   }
  },
  {
   "cell_type": "markdown",
   "source": [
    "<ul>\n",
    "<div style=\"text-align: LEFT\"> <div style=\"color:BLUE\"> <font size=\"13\"> <p><b>LISTS PROGRAMS</b></p></div> </div></font>\n",
    "<div style=\"color:white\"> <font size=\"12\">\n",
    "</div></font>\n",
    "</ul>"
   ],
   "metadata": {
    "collapsed": false,
    "pycharm": {
     "name": "#%% md\n"
    }
   }
  },
  {
   "cell_type": "markdown",
   "source": [
    "<ul>\n",
    "<div style=\"color:BLACK\"> <font size=\"12\">\n",
    "<li>13.program to <strong>find the sum of elements in the list</strong></li>\n",
    "</div></font>\n",
    "</ul>"
   ],
   "metadata": {
    "collapsed": false,
    "pycharm": {
     "name": "#%% md\n"
    }
   }
  },
  {
   "cell_type": "code",
   "execution_count": 26,
   "outputs": [
    {
     "name": "stdout",
     "output_type": "stream",
     "text": [
      "the sum of elements is 10\n"
     ]
    }
   ],
   "source": [
    "#python program to find the sum of elements in the list\n",
    "def sum_list(items):#function definition of the function sum_list with one argument items(here items is the list)\n",
    "  sum=0#initialising sum to 0\n",
    "  for i in items:#loop construct to iterate through each element in the list\n",
    "    sum+=i#computing sum is equal to sum + each element i\n",
    "  print(f\"the sum of elements is {sum}\")#printing the sum\n",
    "sum_list([1,3,6])#calling the function sum_list by passing list as the argument"
   ],
   "metadata": {
    "collapsed": false,
    "pycharm": {
     "name": "#%%\n"
    }
   }
  },
  {
   "cell_type": "markdown",
   "source": [
    "<ul>\n",
    "<div style=\"color:BLACK\"> <font size=\"12\">\n",
    "<li>14.program to <strong>find the product of the elements in the list</strong></li>\n",
    "</div></font>\n",
    "</ul>"
   ],
   "metadata": {
    "collapsed": false,
    "pycharm": {
     "name": "#%% md\n"
    }
   }
  },
  {
   "cell_type": "code",
   "execution_count": 13,
   "outputs": [
    {
     "name": "stdout",
     "output_type": "stream",
     "text": [
      "the product is 6\n"
     ]
    }
   ],
   "source": [
    "#python program to find the product of the elements in the list\n",
    "def product(items):#function definition of the function product with one list argument\n",
    "  pro=1#initialising the value of pro to 1\n",
    "  for i in items:#iterating through each element in the list\n",
    "    pro=pro*i#computing product\n",
    "  print(f\"the product is {pro}\")#printing the product\n",
    "product([1,2,3])#calling the function product by passing list as the argument"
   ],
   "metadata": {
    "collapsed": false,
    "pycharm": {
     "name": "#%%\n"
    }
   }
  },
  {
   "cell_type": "markdown",
   "source": [
    "<ul>\n",
    "<div style=\"color:BLACK\"> <font size=\"12\">\n",
    "<li>15.program to <strong>find the largest element in the list</strong></li>\n",
    "</div></font>\n",
    "</ul>"
   ],
   "metadata": {
    "collapsed": false,
    "pycharm": {
     "name": "#%% md\n"
    }
   }
  },
  {
   "cell_type": "code",
   "execution_count": 27,
   "outputs": [
    {
     "name": "stdout",
     "output_type": "stream",
     "text": [
      "the largest element is 8\n"
     ]
    }
   ],
   "source": [
    "#python program to find the largest element in the list\n",
    "def largest(a):#function definition of the function largest with one list argument\n",
    "  large=a[0]#initialising large value with the first element of the list\n",
    "  for i in a:#iterating through eacg element in the list\n",
    "    if(i>large):#checking whether i is greater than the large element\n",
    "      large=i#updating the value of large to i if the condition is true\n",
    "  print(f\"the largest element is {large}\")#printing the largest element\n",
    "largest([1,4,8])#calling the function largest by passing list as the argument"
   ],
   "metadata": {
    "collapsed": false,
    "pycharm": {
     "name": "#%%\n"
    }
   }
  },
  {
   "cell_type": "markdown",
   "source": [
    "<ul>\n",
    "<div style=\"color:BLACK\"> <font size=\"12\">\n",
    "<li>16.program to <strong>find the smallest element in the list</strong></li>\n",
    "</div></font>\n",
    "</ul>"
   ],
   "metadata": {
    "collapsed": false,
    "pycharm": {
     "name": "#%% md\n"
    }
   }
  },
  {
   "cell_type": "code",
   "execution_count": 10,
   "outputs": [
    {
     "name": "stdout",
     "output_type": "stream",
     "text": [
      "the smallest element is 1\n"
     ]
    }
   ],
   "source": [
    "#python program to find the smallest element in the list\n",
    "def smallest(a):#function definition of the function smallest with one list argument\n",
    "  small=a[0]#initialising small value with the first element of the list\n",
    "  for i in a:#iterating through each element in the list\n",
    "    if(i<small):#checking whether i is lesser than the small element\n",
    "      small=i#updating the value of small to i if the condition is true\n",
    "  print(f\"the smallest element is {small}\")#printing the largest element\n",
    "smallest([1,4,8])#calling the function smallest by passing list as the argument"
   ],
   "metadata": {
    "collapsed": false,
    "pycharm": {
     "name": "#%%\n"
    }
   }
  }
 ],
 "metadata": {
  "kernelspec": {
   "display_name": "Python 3",
   "language": "python",
   "name": "python3"
  },
  "language_info": {
   "codemirror_mode": {
    "name": "ipython",
    "version": 2
   },
   "file_extension": ".py",
   "mimetype": "text/x-python",
   "name": "python",
   "nbconvert_exporter": "python",
   "pygments_lexer": "ipython2",
   "version": "2.7.6"
  }
 },
 "nbformat": 4,
 "nbformat_minor": 0
}