{
 "cells": [
  {
   "cell_type": "markdown",
   "source": [
    "<ul>\n",
    "<div style=\"text-align: LEFT\"> <div style=\"color:BLUE\"> <font size=\"13\"> <p><b>FUNCTIONS PROGRAMS</b></p></div> </div></font>\n",
    "<div style=\"color:white\"> <font size=\"12\">\n",
    "</div></font>\n",
    "</ul>"
   ],
   "metadata": {
    "collapsed": false
   }
  },
  {
   "cell_type": "markdown",
   "source": [
    "<ul>\n",
    "<div style=\"color:BLACK\"> <font size=\"12\">\n",
    "<li>1.Write a program to <strong>find the sum of two numbers</strong></li>\n",
    "</div></font>\n",
    "</ul>"
   ],
   "metadata": {
    "collapsed": false,
    "pycharm": {
     "name": "#%% md\n"
    }
   }
  },
  {
   "cell_type": "code",
   "execution_count": 1,
   "outputs": [],
   "source": [
    "#python3 program to find the sum of two numbers\n",
    "\n",
    "#prompting the user for input and performing type-casting to convert the input from string to int\n",
    "\n",
    "#function definition of add function\n",
    "\n",
    "#adding two numbers and storing the result in the variable sum\n",
    "\n",
    "#returning the sum when the function is called\n",
    "\n",
    "#function definition of main function\n",
    "\n",
    "#calling the function add and storing the returning value in the variable result\n",
    "\n",
    "#printing the sum of two numbers\n",
    "\n",
    "#calling the main function\n"
   ],
   "metadata": {
    "collapsed": false,
    "pycharm": {
     "name": "#%%\n"
    }
   }
  },
  {
   "cell_type": "markdown",
   "source": [
    "<ul>\n",
    "<div style=\"color:BLACK\"> <font size=\"12\">\n",
    "<li>2.Write a program to <strong>check whether the given number is even or odd</strong></li>\n",
    "</div></font>\n",
    "</ul>"
   ],
   "metadata": {
    "collapsed": false,
    "pycharm": {
     "name": "#%% md\n"
    }
   }
  },
  {
   "cell_type": "code",
   "execution_count": null,
   "outputs": [],
   "source": [
    "#python3 program to check whether the given number is even or odd\n",
    "#prompting the user for input and performing type-casting to convert the input from string to int\n",
    "#function definition of the function even_or_odd\n",
    "  #conditional statement to check whether the number is divisible by 2\n",
    "    #printing the number is even if the condition is true\n",
    "\n",
    "    #printing the number is odd if the condition is false\n",
    "#function definition of the main function\n",
    "  #calling the even_or_odd function\n",
    "  #calling the main function"
   ],
   "metadata": {
    "collapsed": false,
    "pycharm": {
     "name": "#%%\n"
    }
   }
  },
  {
   "cell_type": "markdown",
   "source": [
    "<ul>\n",
    "<div style=\"color:BLACK\"> <font size=\"12\">\n",
    "<li>3.Write a program to <strong>find the square of a number</strong></li>\n",
    "</div></font>\n",
    "</ul>"
   ],
   "metadata": {
    "collapsed": false,
    "pycharm": {
     "name": "#%% md\n"
    }
   }
  },
  {
   "cell_type": "code",
   "execution_count": null,
   "outputs": [],
   "source": [
    "#python3 program to find the square of a number\n",
    "#prompting the user for input and performing type casting to convert the input from string to int\n",
    "#function definition of the square function\n",
    " #performing the square of a number and storing it in the variable result\n",
    " #returning the result\n",
    "#function definition of the main function\n",
    "#calling the square function and storing the returning value in variable square\n",
    "  #printing the number and square of the number\n",
    "\n",
    "  #calling the main function"
   ],
   "metadata": {
    "collapsed": false,
    "pycharm": {
     "name": "#%%\n"
    }
   }
  },
  {
   "cell_type": "markdown",
   "source": [
    "<ul>\n",
    "<div style=\"color:BLACK\"> <font size=\"12\">\n",
    "<li>4.Write a program to <strong>swap two numbers</strong></li>\n",
    "</div></font>\n",
    "</ul>"
   ],
   "metadata": {
    "collapsed": false,
    "pycharm": {
     "name": "#%% md\n"
    }
   }
  },
  {
   "cell_type": "code",
   "execution_count": null,
   "outputs": [],
   "source": [
    "#python3 program to swap two numbers\n",
    "#prompting the user for input and performing type-casting to convert the input from string to int\n",
    "\n",
    "\n",
    "#function definition of the function swap with two arguments x and y\n",
    "#printing the values of x and y before swapping\n",
    "  #swaping the values of x and y by taking one temp variable\n",
    "\n",
    "\n",
    "#printing the values of x and y after swapping\n",
    "#function definition of main function\n",
    "  #calling the swap function by passing two arguments x and y\n",
    "\n",
    "  #calling the main function"
   ],
   "metadata": {
    "collapsed": false,
    "pycharm": {
     "name": "#%%\n"
    }
   }
  },
  {
   "cell_type": "markdown",
   "source": [
    "<ul>\n",
    "<div style=\"color:BLACK\"> <font size=\"12\">\n",
    "<li>5.Write a program to <strong>find the power of m rise to n</strong></li>\n",
    "</div></font>\n",
    "</ul>"
   ],
   "metadata": {
    "collapsed": false,
    "pycharm": {
     "name": "#%% md\n"
    }
   }
  },
  {
   "cell_type": "code",
   "execution_count": null,
   "outputs": [],
   "source": [
    "#python3 program to find the power of m rise to n\n",
    "#prompting the user for input and performing type-casting to convert the user input from string to int\n",
    "\n",
    "#function definition of the power function with two arguments m and n\n",
    " #performing m power n and storing the result in variable result\n",
    " #returning the result when the function is called\n",
    "#function definition of the main function\n",
    "  #calling the function power by passing 2 arguments m and n and storing the returning value in the variable res\n",
    " #printing the result\n",
    "\n",
    " #calling the main function"
   ],
   "metadata": {
    "collapsed": false,
    "pycharm": {
     "name": "#%%\n"
    }
   }
  },
  {
   "cell_type": "markdown",
   "source": [
    "<ul>\n",
    "<div style=\"color:BLACK\"> <font size=\"12\">\n",
    "<li>6.Write a program to <strong>find the number is niven</strong></li>\n",
    "</div></font>\n",
    "</ul>"
   ],
   "metadata": {
    "collapsed": false,
    "pycharm": {
     "name": "#%% md\n"
    }
   }
  },
  {
   "cell_type": "code",
   "execution_count": null,
   "outputs": [],
   "source": [
    "#python3 program to find the number is niven\n",
    "#the number is niven if it is divisible by the sum of its digits\n",
    "#prompting the user for input\n",
    "#function definition of the function check_niven with one argument n\n",
    "  #assigning the value of n to temp\n",
    "  #initialising the value of sum to 0\n",
    "  #conditional statement to check the number is greater than 0\n",
    "   #accessing the last digit of the number\n",
    "   #calculating the sum of digits\n",
    "   #accessing the remaining numbers leavimg the last digit\n",
    "  #checking whether the number is completely divisible by the sum of digits\n",
    "   #printing the number is niven if the condition is true\n",
    "\n",
    "   #printing the number is not niven if the condition is false\n",
    "#function definition of the main function\n",
    " #calling the function check_niven by passing one parameter n\n",
    "\n",
    "  #calling main function"
   ],
   "metadata": {
    "collapsed": false,
    "pycharm": {
     "name": "#%%\n"
    }
   }
  },
  {
   "cell_type": "markdown",
   "source": [
    "<ul>\n",
    "<div style=\"color:BLACK\"> <font size=\"12\">\n",
    "<li>7.Write a program to <strong>find the number is palindrome</strong></li>\n",
    "</div></font>\n",
    "</ul>"
   ],
   "metadata": {
    "collapsed": false,
    "pycharm": {
     "name": "#%% md\n"
    }
   }
  },
  {
   "cell_type": "code",
   "execution_count": null,
   "outputs": [],
   "source": [
    "#python3 program to check the number is palindrome\n",
    "#prompting the user for input and performing type-casting to convert the user input from string to int\n",
    "#function definition of the function palindrome with one argument n\n",
    " #assigning the value of n to variable temp\n",
    "  #initialising the value of rn to o\n",
    "  #checking whether the number is greater than 0\n",
    "    #accessing the last digit of the number\n",
    "\n",
    "   #accessing the number leaving the last digit\n",
    "  #checking whether n is equal to rn\n",
    "   #printing the number is palindrome if the condition is true\n",
    "\n",
    "   #printing the number is not palindrome if the condition is not true\n",
    "#function definition of the main function\n",
    "  #calling the function palindrome by passing one argument n\n",
    "\n",
    "  #calling the main function"
   ],
   "metadata": {
    "collapsed": false,
    "pycharm": {
     "name": "#%%\n"
    }
   }
  },
  {
   "cell_type": "markdown",
   "source": [
    "<ul>\n",
    "<div style=\"color:BLACK\"> <font size=\"12\">\n",
    "<li>8.Write a program to <strong>find the largest of 3 numbers</strong></li>\n",
    "</div></font>\n",
    "</ul>"
   ],
   "metadata": {
    "collapsed": false,
    "pycharm": {
     "name": "#%% md\n"
    }
   }
  },
  {
   "cell_type": "code",
   "execution_count": null,
   "outputs": [],
   "source": [
    "#python3 program to find the largest of 3 numbers\n",
    "#prompting the user for input and performing type-casting to convert the user input from string to int\n",
    "\n",
    "#function definition of the function largest\n",
    "  #checking whether a is greater than b and c\n",
    "   #printing a is the largest if the condition is true\n",
    "  #checking whether b is greater than both a and c\n",
    "    #printing b is the largest if the condition is true\n",
    "\n",
    "   #printing c is the largest if both the condition is not true\n",
    "#calling the function largest"
   ],
   "metadata": {
    "collapsed": false,
    "pycharm": {
     "name": "#%%\n"
    }
   }
  },
  {
   "cell_type": "markdown",
   "source": [
    "<ul>\n",
    "<div style=\"color:BLACK\"> <font size=\"12\">\n",
    "<li>9.Write a program to <strong>Find the factors of the number</strong></li>\n",
    "</div></font>\n",
    "</ul>"
   ],
   "metadata": {
    "collapsed": false,
    "pycharm": {
     "name": "#%% md\n"
    }
   }
  },
  {
   "cell_type": "code",
   "source": [
    "#python3 program to find the factors of the number\n",
    "#prompting the user for input and performing type-casting to convert the user input from string to int\n",
    "#function definition of the function factors\n",
    "  #printing the factors of number are\n",
    "  #looping statement to access all the values between 1 and the number\n",
    "    #checking whether n is divisible by i\n",
    "     #printing i if the condition is true\n",
    "#calling the function factors"
   ],
   "metadata": {
    "collapsed": false,
    "pycharm": {
     "name": "#%%\n"
    }
   },
   "execution_count": null,
   "outputs": []
  },
  {
   "cell_type": "markdown",
   "source": [
    "<ul>\n",
    "<div style=\"text-align: LEFT\"> <div style=\"color:BLUE\"> <font size=\"13\"> <p><b>STRINGS PROGRAMS</b></p></div> </div></font>\n",
    "<div style=\"color:white\"> <font size=\"12\">\n",
    "</div></font>\n",
    "</ul>"
   ],
   "metadata": {
    "collapsed": false,
    "pycharm": {
     "name": "#%% md\n"
    }
   }
  },
  {
   "cell_type": "markdown",
   "source": [
    "<ul>\n",
    "<div style=\"color:BLACK\"> <font size=\"12\">\n",
    "<li>10.Write a program to <strong>find the length of the string</strong></li>\n",
    "</div></font>\n",
    "</ul>"
   ],
   "metadata": {
    "collapsed": false,
    "pycharm": {
     "name": "#%% md\n"
    }
   }
  },
  {
   "cell_type": "code",
   "execution_count": null,
   "outputs": [],
   "source": [
    "#program to find the length of the string\n",
    "#prompting the user for input a string\n",
    "#initialising count variable to 0\n",
    "#loop construct for accessing each character in the string\n",
    "  #incrementing the value of count\n",
    "#printing the string and number of characters in it"
   ],
   "metadata": {
    "collapsed": false,
    "pycharm": {
     "name": "#%%\n"
    }
   }
  },
  {
   "cell_type": "markdown",
   "source": [
    "<ul>\n",
    "<div style=\"color:BLACK\"> <font size=\"12\">\n",
    "<li>11.Write a program to <strong>reverse the string</strong></li>\n",
    "</div></font>\n",
    "</ul>"
   ],
   "metadata": {
    "collapsed": false,
    "pycharm": {
     "name": "#%% md\n"
    }
   }
  },
  {
   "cell_type": "code",
   "execution_count": null,
   "outputs": [],
   "source": [
    "#program to reverse the string\n",
    "#prompting the user to input a string\n",
    "#performing slicing operation to reverse the string and storing it in variable rev\n",
    "#printing the reversed string"
   ],
   "metadata": {
    "collapsed": false,
    "pycharm": {
     "name": "#%%\n"
    }
   }
  },
  {
   "cell_type": "markdown",
   "source": [
    "<ul>\n",
    "<div style=\"color:BLACK\"> <font size=\"12\">\n",
    "<li>12.Write a program to <strong>print the even length words in the string</strong></li>\n",
    "</div></font>\n",
    "</ul>"
   ],
   "metadata": {
    "collapsed": false,
    "pycharm": {
     "name": "#%% md\n"
    }
   }
  },
  {
   "cell_type": "code",
   "execution_count": null,
   "outputs": [],
   "source": [
    "#python3 code to print the even length words in the string\n",
    "#prompting the user to input a string\n",
    "#function definition of the function printWords\n",
    " #spliting the string\n",
    " #iterating in words of string\n",
    "  #checking if the length is even\n",
    "     #printing the word if the condition is true\n",
    "#calling the function printWords"
   ],
   "metadata": {
    "collapsed": false,
    "pycharm": {
     "name": "#%%\n"
    }
   }
  },
  {
   "cell_type": "markdown",
   "source": [
    "<ul>\n",
    "<div style=\"text-align: LEFT\"> <div style=\"color:BLUE\"> <font size=\"13\"> <p><b>LISTS PROGRAMS</b></p></div> </div></font>\n",
    "<div style=\"color:white\"> <font size=\"12\">\n",
    "</div></font>\n",
    "</ul>"
   ],
   "metadata": {
    "collapsed": false,
    "pycharm": {
     "name": "#%% md\n"
    }
   }
  },
  {
   "cell_type": "markdown",
   "source": [
    "<ul>\n",
    "<div style=\"color:BLACK\"> <font size=\"12\">\n",
    "<li>13.Write a program to <strong>find the sum of elements in the list</strong></li>\n",
    "</div></font>\n",
    "</ul>"
   ],
   "metadata": {
    "collapsed": false,
    "pycharm": {
     "name": "#%% md\n"
    }
   }
  },
  {
   "cell_type": "code",
   "execution_count": 2,
   "outputs": [],
   "source": [
    "#python program to find the sum of elements in the list\n",
    "#function definition of the function sum_list with one argument items(here items is the list)\n",
    "  #initialising sum to 0\n",
    "  #loop construct to iterate through each element in the list\n",
    "    #computing sum is equal to sum + each element i\n",
    "  #printing the sum\n",
    "#calling the function sum_list by passing list as the argument"
   ],
   "metadata": {
    "collapsed": false,
    "pycharm": {
     "name": "#%%\n"
    }
   }
  },
  {
   "cell_type": "markdown",
   "source": [
    "<ul>\n",
    "<div style=\"color:BLACK\"> <font size=\"12\">\n",
    "<li>14.Write a program to <strong>find the product of the elements in the list</strong></li>\n",
    "</div></font>\n",
    "</ul>"
   ],
   "metadata": {
    "collapsed": false,
    "pycharm": {
     "name": "#%% md\n"
    }
   }
  },
  {
   "cell_type": "code",
   "execution_count": 3,
   "outputs": [],
   "source": [
    "#python program to find the product of the elements in the list\n",
    "#function definition of the function product with one list argument\n",
    " #initialising the value of pro to 1\n",
    "  #iterating through each element in the list\n",
    "    #computing product\n",
    "  #printing the product\n",
    "#calling the function product by passing list as the argument"
   ],
   "metadata": {
    "collapsed": false,
    "pycharm": {
     "name": "#%%\n"
    }
   }
  },
  {
   "cell_type": "markdown",
   "source": [
    "<ul>\n",
    "<div style=\"color:BLACK\"> <font size=\"12\">\n",
    "<li>15.Write a program to <strong>find the largest element in the list</strong></li>\n",
    "</div></font>\n",
    "</ul>"
   ],
   "metadata": {
    "collapsed": false,
    "pycharm": {
     "name": "#%% md\n"
    }
   }
  },
  {
   "cell_type": "code",
   "execution_count": 4,
   "outputs": [],
   "source": [
    "#python program to find the largest element in the list\n",
    "#function definition to find largest element\n",
    "  #initialising large value with the first element of the list\n",
    "  #iterating through each element in the list\n",
    "    #checking whether i is greater than the large element\n",
    "     #updating the value of large to i if the condition is true\n",
    "  #printing the largest element\n",
    "#calling the function largest by passing list as the argument"
   ],
   "metadata": {
    "collapsed": false,
    "pycharm": {
     "name": "#%%\n"
    }
   }
  },
  {
   "cell_type": "markdown",
   "source": [
    "<ul>\n",
    "<div style=\"color:BLACK\"> <font size=\"12\">\n",
    "<li>16.Write a program to <strong>find the smallest element in the list</strong></li>\n",
    "</div></font>\n",
    "</ul>"
   ],
   "metadata": {
    "collapsed": false,
    "pycharm": {
     "name": "#%% md\n"
    }
   }
  },
  {
   "cell_type": "code",
   "execution_count": 5,
   "outputs": [],
   "source": [
    "#python program to find the smallest element in the list\n",
    "#function definition to find smallest element\n",
    "  #initialising small value with the first element of the list\n",
    "  #iterating through each element in the list\n",
    "   #checking whether i is lesser than the small element\n",
    "      #updating the value of small to i if the condition is true\n",
    " #printing the largest element\n",
    "#calling the function smallest by passing list as the argument"
   ],
   "metadata": {
    "collapsed": false,
    "pycharm": {
     "name": "#%%\n"
    }
   }
  },
  {
   "cell_type": "code",
   "execution_count": null,
   "outputs": [],
   "source": [],
   "metadata": {
    "collapsed": false,
    "pycharm": {
     "name": "#%%\n"
    }
   }
  }
 ],
 "metadata": {
  "kernelspec": {
   "display_name": "Python 3",
   "language": "python",
   "name": "python3"
  },
  "language_info": {
   "codemirror_mode": {
    "name": "ipython",
    "version": 2
   },
   "file_extension": ".py",
   "mimetype": "text/x-python",
   "name": "python",
   "nbconvert_exporter": "python",
   "pygments_lexer": "ipython2",
   "version": "2.7.6"
  }
 },
 "nbformat": 4,
 "nbformat_minor": 0
}